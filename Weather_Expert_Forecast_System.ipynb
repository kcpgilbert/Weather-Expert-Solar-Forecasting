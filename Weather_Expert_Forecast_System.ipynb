{
  "cells": [
    {
      "cell_type": "markdown",
      "metadata": {
        "id": "hFg5QgwpgqzQ"
      },
      "source": [
        "![weather_expert.PNG](data:image/png;base64,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)"
      ]
    },
    {
      "cell_type": "code",
      "execution_count": 6,
      "metadata": {
        "colab": {
          "base_uri": "https://localhost:8080/"
        },
        "id": "00WUzNTHLdzW",
        "outputId": "8fb68f84-3ae3-4bc4-a2ae-3e26d37d16ec"
      },
      "outputs": [],
      "source": [
        "import pandas as pd\n",
        "import plotly.express as px\n",
        "import numpy as np\n",
        "from datetime import datetime, timedelta\n",
        "import ipywidgets as widgets\n",
        "import requests, json\n",
        "from solarpy import irradiance_on_plane, solar_panel\n",
        "from datetime import datetime\n",
        "import pgeocode\n",
        "from datetime import datetime\n",
        "from shapely.geometry import Point\n",
        "import calfire_wildfires\n",
        "import numpy as np\n",
        "import pandas as pd\n"
      ]
    },
    {
      "cell_type": "markdown",
      "metadata": {
        "id": "P0OgkPqRY1QO"
      },
      "source": [
        "### Load demand data"
      ]
    },
    {
      "cell_type": "code",
      "execution_count": 7,
      "metadata": {
        "colab": {
          "base_uri": "https://localhost:8080/",
          "height": 206
        },
        "id": "5C2nElIF4Ldp",
        "outputId": "0bbdf781-3694-4a1e-a076-16f9bb766c32"
      },
      "outputs": [
        {
          "data": {
            "text/html": [
              "<div>\n",
              "<style scoped>\n",
              "    .dataframe tbody tr th:only-of-type {\n",
              "        vertical-align: middle;\n",
              "    }\n",
              "\n",
              "    .dataframe tbody tr th {\n",
              "        vertical-align: top;\n",
              "    }\n",
              "\n",
              "    .dataframe thead th {\n",
              "        text-align: right;\n",
              "    }\n",
              "</style>\n",
              "<table border=\"1\" class=\"dataframe\">\n",
              "  <thead>\n",
              "    <tr style=\"text-align: right;\">\n",
              "      <th></th>\n",
              "      <th>date/time</th>\n",
              "      <th>kwh</th>\n",
              "      <th>month</th>\n",
              "      <th>day</th>\n",
              "      <th>time_of_day</th>\n",
              "    </tr>\n",
              "  </thead>\n",
              "  <tbody>\n",
              "    <tr>\n",
              "      <th>0</th>\n",
              "      <td>01/01  01:00:00</td>\n",
              "      <td>103.909147</td>\n",
              "      <td>1</td>\n",
              "      <td>1</td>\n",
              "      <td>01:00:00</td>\n",
              "    </tr>\n",
              "    <tr>\n",
              "      <th>1</th>\n",
              "      <td>01/01  02:00:00</td>\n",
              "      <td>102.220377</td>\n",
              "      <td>1</td>\n",
              "      <td>1</td>\n",
              "      <td>02:00:00</td>\n",
              "    </tr>\n",
              "    <tr>\n",
              "      <th>2</th>\n",
              "      <td>01/01  03:00:00</td>\n",
              "      <td>100.249745</td>\n",
              "      <td>1</td>\n",
              "      <td>1</td>\n",
              "      <td>03:00:00</td>\n",
              "    </tr>\n",
              "    <tr>\n",
              "      <th>3</th>\n",
              "      <td>01/01  04:00:00</td>\n",
              "      <td>98.198527</td>\n",
              "      <td>1</td>\n",
              "      <td>1</td>\n",
              "      <td>04:00:00</td>\n",
              "    </tr>\n",
              "    <tr>\n",
              "      <th>4</th>\n",
              "      <td>01/01  05:00:00</td>\n",
              "      <td>103.562145</td>\n",
              "      <td>1</td>\n",
              "      <td>1</td>\n",
              "      <td>05:00:00</td>\n",
              "    </tr>\n",
              "  </tbody>\n",
              "</table>\n",
              "</div>"
            ],
            "text/plain": [
              "          date/time         kwh  month  day time_of_day\n",
              "0   01/01  01:00:00  103.909147      1    1    01:00:00\n",
              "1   01/01  02:00:00  102.220377      1    1    02:00:00\n",
              "2   01/01  03:00:00  100.249745      1    1    03:00:00\n",
              "3   01/01  04:00:00   98.198527      1    1    04:00:00\n",
              "4   01/01  05:00:00  103.562145      1    1    05:00:00"
            ]
          },
          "execution_count": 7,
          "metadata": {},
          "output_type": "execute_result"
        }
      ],
      "source": [
        "path = \"https://github.com/jrt560/data/raw/main/supermarket.csv\"\n",
        "demand_data = pd.read_csv(path)\n",
        "\n",
        "demand_data.tail()\n",
        "months = []\n",
        "days = []\n",
        "time_of_day = []\n",
        "\n",
        "for i in range(0,np.shape(demand_data)[0]):\n",
        "  temp = demand_data['date/time'][i]\n",
        "  time_of_day.append(temp.split(' ')[-1])\n",
        "  temp_month = temp.split('/')[0].lstrip(' ')\n",
        "  months.append(int(temp_month))\n",
        "  temp_day = temp.split('/')[1][0:2]\n",
        "  days.append(int(temp_day))\n",
        "\n",
        "demand_data['month']=months\n",
        "demand_data['day']=days\n",
        "demand_data['time_of_day']=time_of_day\n",
        "demand_data = demand_data.drop(columns = ['Unnamed: 2'])\n",
        "demand_data = demand_data.drop(columns = ['Unnamed: 3'])\n",
        "\n",
        "demand_data.head()\n"
      ]
    },
    {
      "cell_type": "markdown",
      "metadata": {
        "id": "LcZhIg__Obmz"
      },
      "source": [
        "## **User Inputs:**\n"
      ]
    },
    {
      "cell_type": "code",
      "execution_count": 8,
      "metadata": {
        "colab": {
          "base_uri": "https://localhost:8080/"
        },
        "id": "pHYpapFTd4Ez",
        "outputId": "0aab966b-bf08-4760-ec49-cd30819018d0"
      },
      "outputs": [
        {
          "name": "stdout",
          "output_type": "stream",
          "text": [
            "Please enter your zip code:\n"
          ]
        }
      ],
      "source": [
        "print(\"Please enter your zip code:\")\n",
        "zip = input()\n"
      ]
    },
    {
      "cell_type": "code",
      "execution_count": 9,
      "metadata": {
        "colab": {
          "base_uri": "https://localhost:8080/"
        },
        "id": "Do_SI5d3CTQB",
        "outputId": "07c2a590-b81c-4d92-c988-99e40c44a793"
      },
      "outputs": [
        {
          "name": "stdout",
          "output_type": "stream",
          "text": [
            "Please enter number of solar panels:\n"
          ]
        }
      ],
      "source": [
        "print(\"Please enter number of solar panels:\")\n",
        "num_of_panels = input()"
      ]
    },
    {
      "cell_type": "code",
      "execution_count": 10,
      "metadata": {
        "colab": {
          "base_uri": "https://localhost:8080/"
        },
        "id": "ieD12wIRgKw7",
        "outputId": "26e069ac-4bf9-4918-fd3b-5c51eeb7dc9d"
      },
      "outputs": [
        {
          "name": "stdout",
          "output_type": "stream",
          "text": [
            "Please enter in kWh battery size:\n"
          ]
        }
      ],
      "source": [
        "print(\"Please enter in kWh battery size:\")\n",
        "user_supplied_battery_size = input()"
      ]
    },
    {
      "cell_type": "code",
      "execution_count": 11,
      "metadata": {
        "colab": {
          "base_uri": "https://localhost:8080/"
        },
        "id": "acYLMXRdGtrG",
        "outputId": "3d1fee21-fedb-4f53-f5c1-5bc951ace9cb"
      },
      "outputs": [
        {
          "name": "stdout",
          "output_type": "stream",
          "text": [
            "Please enter current battery %: \n"
          ]
        }
      ],
      "source": [
        "print('Please enter current battery %: ')\n",
        "battery_percent_input = input()"
      ]
    },
    {
      "cell_type": "markdown",
      "metadata": {
        "id": "I-JG5Y-NY6pj"
      },
      "source": [
        "### Get weather forecast data for zip code"
      ]
    },
    {
      "cell_type": "code",
      "execution_count": 12,
      "metadata": {
        "colab": {
          "base_uri": "https://localhost:8080/"
        },
        "id": "cAkpUP9aeBqZ",
        "outputId": "cb22af20-696f-4947-eb8c-961ed0874d8d"
      },
      "outputs": [
        {
          "name": "stdout",
          "output_type": "stream",
          "text": [
            "This zip code corresponds to 34.1076 latitude and -118.6023 longitude.\n",
            "\n",
            "\n",
            "Searching for 5-day forecast data for your location...\n"
          ]
        }
      ],
      "source": [
        "# converting the zip code into lat/lon coordinates for the weather API.\n",
        "\n",
        "nomi = pgeocode.Nominatim('us')\n",
        "zip_info = nomi.query_postal_code(zip)\n",
        "zip_lat = zip_info.latitude\n",
        "zip_lon = zip_info.longitude\n",
        "print(\"This zip code corresponds to \" + \n",
        "      str(zip_lat) + \" latitude and \" +\n",
        "      str(zip_lon) + \" longitude.\")\n",
        "print(\"\\n\")\n",
        "print(\"Searching for 5-day forecast data for your location...\")"
      ]
    },
    {
      "cell_type": "code",
      "execution_count": 13,
      "metadata": {
        "colab": {
          "base_uri": "https://localhost:8080/"
        },
        "id": "ikwOTq42mgNH",
        "outputId": "a7e46d43-f3ad-45c3-a40a-005505f14a19"
      },
      "outputs": [
        {
          "name": "stdout",
          "output_type": "stream",
          "text": [
            "http://api.openweathermap.org/data/2.5/forecast?&lat=34.1076&lon=-118.6023&appid=0991b1584a6c341b59012416f50ce210\n",
            "\n",
            "\n",
            "Forecast data has been extracted for your location.\n"
          ]
        }
      ],
      "source": [
        "# Finding the local weather data for the corresponding lat/lon coordinates.\n",
        "\n",
        "# Enter your API key here\n",
        "\n",
        "api_key = \"0991b1584a6c341b59012416f50ce210\"\n",
        "base_url = \"http://api.openweathermap.org/data/2.5/forecast?\"\n",
        "\n",
        "complete_url = base_url + \"&lat=\" + str(zip_lat) + \"&lon=\" + str(zip_lon)  + \"&appid=\" + api_key \n",
        "\n",
        "print(complete_url)\n",
        "\n",
        "# get method of requests module\n",
        "# return response object\n",
        "response = requests.get(complete_url)\n",
        " \n",
        "# json method of response object\n",
        "# convert json format data into\n",
        "# python format data\n",
        "forecast_data = response.json()\n",
        "\n",
        "print(\"\\n\")\n",
        "print(\"Forecast data has been extracted for your location.\")"
      ]
    },
    {
      "cell_type": "markdown",
      "metadata": {
        "id": "J6W0xR1sY_WE"
      },
      "source": [
        "###Estimate battery capacity from daily sums of demand"
      ]
    },
    {
      "cell_type": "code",
      "execution_count": null,
      "metadata": {
        "id": "_Fm2dtsuLJPj"
      },
      "outputs": [],
      "source": [
        "### ASSUMPTIONS\n",
        "#1: assume battery capacity if the average daily demand\n",
        "#daily_sums = demand_data.groupby(['month','day'])['kwh'].sum()\n",
        "#battery_capacity_kW =np.mean(daily_sums)/24\n",
        "#battery_capacity_kW\n",
        "\n"
      ]
    },
    {
      "cell_type": "markdown",
      "metadata": {
        "id": "yiLBId7vZESR"
      },
      "source": [
        "### Considering wildfires, make assumptions on minimum battery life for saftey"
      ]
    },
    {
      "cell_type": "code",
      "execution_count": 14,
      "metadata": {
        "colab": {
          "base_uri": "https://localhost:8080/"
        },
        "id": "A6K7FbqAL4Tn",
        "outputId": "b0e9333a-15ff-4958-f099-e1c4453b7701"
      },
      "outputs": [
        {
          "name": "stdout",
          "output_type": "stream",
          "text": [
            "no active wildfires, using battery minimum level of 50%\n"
          ]
        }
      ],
      "source": [
        "### ASSUMPTIONS CONTINUED\n",
        "### FIGURE OUT BATTERY MINIMUM LEVELS\n",
        "\n",
        "#2: assume battery level can dip to 50% UNLESS there is a fire detected \n",
        "#3: now check for fire, if yes, maximize batter \n",
        "\n",
        "active_fire_data = calfire_wildfires.get_active_fires()\n",
        "df_fire_data = pd.DataFrame.from_dict(active_fire_data)\n",
        "\n",
        "geometries = []\n",
        "names = []\n",
        "\n",
        "if df_fire_data.empty:\n",
        "    battery_min_level = 50\n",
        "    print('no active wildfires, using battery minimum level of ' + str(battery_min_level) + '%')\n",
        "else:\n",
        "  for i in range(0,np.shape(df_fire_data)[0]):\n",
        "    if df_fire_data.features[i]['properties']['IsActive']=='True':\n",
        "      geometries.append(Point(df_fire_data.features[i]['properties']['Longitude'],df_fire_data.features[i]['properties']['Latitude']))\n",
        "      names.append(df_fire_data.features[i]['properties']['Name'])\n",
        "      battery_min_level = 100\n",
        "      print(' active wildfires nearby, using battery maximum level of' + str(battery_min_level) + '%')"
      ]
    },
    {
      "cell_type": "markdown",
      "metadata": {
        "id": "XtIVZ7hoZOjj"
      },
      "source": [
        "### Get ranges of dates for forecasts"
      ]
    },
    {
      "cell_type": "code",
      "execution_count": 15,
      "metadata": {
        "id": "qP1oCJIKNF_z"
      },
      "outputs": [],
      "source": [
        "#### GETTING DATA RANGES\n",
        "start_forecast_date = datetime.strptime(forecast_data['list'][0]['dt_txt'], '%Y-%m-%d %H:%M:%S')\n",
        "end_forecast_date = datetime.strptime(forecast_data['list'][-1]['dt_txt'], '%Y-%m-%d %H:%M:%S')\n",
        "range_all_day_times = pd.date_range(start_forecast_date,end_forecast_date,freq='1H')\n",
        "range_forecast_times = pd.date_range(start_forecast_date,end_forecast_date,freq='3H')\n"
      ]
    },
    {
      "cell_type": "markdown",
      "metadata": {
        "id": "E_r56BM8ZR8y"
      },
      "source": [
        "### Start looped calculations"
      ]
    },
    {
      "cell_type": "code",
      "execution_count": null,
      "metadata": {},
      "outputs": [],
      "source": []
    },
    {
      "cell_type": "code",
      "execution_count": 16,
      "metadata": {
        "colab": {
          "base_uri": "https://localhost:8080/"
        },
        "id": "rBXzif_J8Pla",
        "outputId": "53de51b2-26d3-4573-872d-e80eb2caa6ab"
      },
      "outputs": [
        {
          "name": "stdout",
          "output_type": "stream",
          "text": [
            "starting battery start amount: 242.5\n",
            "it will be this cloudy: 100%\n",
            "it is not going to rain\n",
            "finding matching month/day/time for: 2023-01-13 21:00:00\n",
            "estimated demand: 215.93 kWh\n",
            "estimated solar power generation without clouds: 0.0 kWh\n",
            "estimated solar power generation with clouds: 0.0 kWh\n",
            "battery cannot being used to supply energy, demand exceeds solar generation to a level that is below a safe minimum\n",
            "----------------------------------------------------\n",
            "it will be this cloudy: 100%\n",
            "it is not going to rain\n",
            "finding matching month/day/time for: 2023-01-13 22:00:00\n",
            "estimated demand: 153.61 kWh\n",
            "estimated solar power generation without clouds: 0.0 kWh\n",
            "estimated solar power generation with clouds: 0.0 kWh\n",
            "battery cannot being used to supply energy, demand exceeds solar generation to a level that is below a safe minimum\n",
            "----------------------------------------------------\n",
            "it will be this cloudy: 100%\n",
            "it is not going to rain\n",
            "finding matching month/day/time for: 2023-01-13 23:00:00\n",
            "estimated demand: 109.8 kWh\n",
            "estimated solar power generation without clouds: 0.0 kWh\n",
            "estimated solar power generation with clouds: 0.0 kWh\n",
            "battery and solar can be used to supply energy, battery is above the safe minimum\n",
            "----------------------------------------------------\n",
            "it will be this cloudy: 100%\n",
            "it is not going to rain\n",
            "finding matching month/day/time for: 2023-01-14 00:00:00\n",
            "estimated demand: 125.65 kWh\n",
            "estimated solar power generation without clouds: 0.0 kWh\n",
            "estimated solar power generation with clouds: 0.0 kWh\n",
            "battery cannot being used to supply energy, demand exceeds solar generation to a level that is below a safe minimum\n",
            "----------------------------------------------------\n",
            "it will be this cloudy: 85%\n",
            "it is not going to rain\n",
            "finding matching month/day/time for: 2023-01-14 01:00:00\n",
            "estimated demand: 110.15 kWh\n",
            "estimated solar power generation without clouds: 0.0 kWh\n",
            "estimated solar power generation with clouds: 0.0 kWh\n",
            "battery cannot being used to supply energy, demand exceeds solar generation to a level that is below a safe minimum\n",
            "----------------------------------------------------\n",
            "it will be this cloudy: 85%\n",
            "it is not going to rain\n",
            "finding matching month/day/time for: 2023-01-14 02:00:00\n",
            "estimated demand: 100.04 kWh\n",
            "estimated solar power generation without clouds: 0.0 kWh\n",
            "estimated solar power generation with clouds: 0.0 kWh\n",
            "battery cannot being used to supply energy, demand exceeds solar generation to a level that is below a safe minimum\n",
            "----------------------------------------------------\n",
            "it will be this cloudy: 85%\n",
            "it is not going to rain\n",
            "finding matching month/day/time for: 2023-01-14 03:00:00\n",
            "estimated demand: 97.76 kWh\n",
            "estimated solar power generation without clouds: 0.0 kWh\n",
            "estimated solar power generation with clouds: 0.0 kWh\n",
            "battery cannot being used to supply energy, demand exceeds solar generation to a level that is below a safe minimum\n",
            "----------------------------------------------------\n",
            "it will be this cloudy: 88%\n",
            "it is not going to rain\n",
            "finding matching month/day/time for: 2023-01-14 04:00:00\n",
            "estimated demand: 95.95 kWh\n",
            "estimated solar power generation without clouds: 0.0 kWh\n",
            "estimated solar power generation with clouds: 0.0 kWh\n",
            "battery cannot being used to supply energy, demand exceeds solar generation to a level that is below a safe minimum\n",
            "----------------------------------------------------\n",
            "it will be this cloudy: 88%\n",
            "it is not going to rain\n",
            "finding matching month/day/time for: 2023-01-14 05:00:00\n",
            "estimated demand: 101.07 kWh\n",
            "estimated solar power generation without clouds: 0.0 kWh\n",
            "estimated solar power generation with clouds: 0.0 kWh\n",
            "battery cannot being used to supply energy, demand exceeds solar generation to a level that is below a safe minimum\n",
            "----------------------------------------------------\n",
            "it will be this cloudy: 88%\n",
            "it is not going to rain\n",
            "finding matching month/day/time for: 2023-01-14 06:00:00\n",
            "estimated demand: 99.61 kWh\n",
            "estimated solar power generation without clouds: 0.0 kWh\n",
            "estimated solar power generation with clouds: 0.0 kWh\n",
            "battery cannot being used to supply energy, demand exceeds solar generation to a level that is below a safe minimum\n",
            "----------------------------------------------------\n",
            "it will be this cloudy: 100%\n",
            "it is not going to rain\n",
            "finding matching month/day/time for: 2023-01-14 07:00:00\n",
            "estimated demand: 130.15 kWh\n",
            "estimated solar power generation without clouds: 0.0 kWh\n",
            "estimated solar power generation with clouds: 0.0 kWh\n",
            "battery cannot being used to supply energy, demand exceeds solar generation to a level that is below a safe minimum\n",
            "----------------------------------------------------\n",
            "it will be this cloudy: 100%\n",
            "it is not going to rain\n",
            "finding matching month/day/time for: 2023-01-14 08:00:00\n",
            "estimated demand: 128.49 kWh\n",
            "estimated solar power generation without clouds: 9.54 kWh\n",
            "estimated solar power generation with clouds: 0.0 kWh\n",
            "battery cannot being used to supply energy, demand exceeds solar generation to a level that is below a safe minimum\n",
            "----------------------------------------------------\n",
            "it will be this cloudy: 100%\n",
            "it is not going to rain\n",
            "finding matching month/day/time for: 2023-01-14 09:00:00\n",
            "estimated demand: 191.51 kWh\n",
            "estimated solar power generation without clouds: 39.64 kWh\n",
            "estimated solar power generation with clouds: 0.0 kWh\n",
            "battery cannot being used to supply energy, demand exceeds solar generation to a level that is below a safe minimum\n",
            "----------------------------------------------------\n",
            "it will be this cloudy: 100%\n",
            "it is going to rain\n",
            "finding matching month/day/time for: 2023-01-14 10:00:00\n",
            "estimated demand: 216.64 kWh\n",
            "estimated solar power generation without clouds: 68.89 kWh\n",
            "estimated solar power generation with clouds: 0.0 kWh\n",
            "battery cannot being used to supply energy, demand exceeds solar generation to a level that is below a safe minimum\n",
            "----------------------------------------------------\n",
            "it will be this cloudy: 100%\n",
            "it is going to rain\n",
            "finding matching month/day/time for: 2023-01-14 11:00:00\n",
            "estimated demand: 245.95 kWh\n",
            "estimated solar power generation without clouds: 88.62 kWh\n",
            "estimated solar power generation with clouds: 0.0 kWh\n",
            "battery cannot being used to supply energy, demand exceeds solar generation to a level that is below a safe minimum\n",
            "----------------------------------------------------\n",
            "it will be this cloudy: 100%\n",
            "it is going to rain\n",
            "finding matching month/day/time for: 2023-01-14 12:00:00\n",
            "estimated demand: 276.64 kWh\n",
            "estimated solar power generation without clouds: 95.51 kWh\n",
            "estimated solar power generation with clouds: 0.0 kWh\n",
            "battery cannot being used to supply energy, demand exceeds solar generation to a level that is below a safe minimum\n",
            "----------------------------------------------------\n",
            "it will be this cloudy: 100%\n",
            "it is going to rain\n",
            "finding matching month/day/time for: 2023-01-14 13:00:00\n",
            "estimated demand: 261.43 kWh\n",
            "estimated solar power generation without clouds: 88.62 kWh\n",
            "estimated solar power generation with clouds: 0.0 kWh\n",
            "battery cannot being used to supply energy, demand exceeds solar generation to a level that is below a safe minimum\n",
            "----------------------------------------------------\n",
            "it will be this cloudy: 100%\n",
            "it is going to rain\n",
            "finding matching month/day/time for: 2023-01-14 14:00:00\n",
            "estimated demand: 257.83 kWh\n",
            "estimated solar power generation without clouds: 68.89 kWh\n",
            "estimated solar power generation with clouds: 0.0 kWh\n",
            "battery cannot being used to supply energy, demand exceeds solar generation to a level that is below a safe minimum\n",
            "----------------------------------------------------\n",
            "it will be this cloudy: 100%\n",
            "it is going to rain\n",
            "finding matching month/day/time for: 2023-01-14 15:00:00\n",
            "estimated demand: 253.63 kWh\n",
            "estimated solar power generation without clouds: 39.64 kWh\n",
            "estimated solar power generation with clouds: 0.0 kWh\n",
            "battery cannot being used to supply energy, demand exceeds solar generation to a level that is below a safe minimum\n",
            "----------------------------------------------------\n",
            "it will be this cloudy: 100%\n",
            "it is going to rain\n",
            "finding matching month/day/time for: 2023-01-14 16:00:00\n",
            "estimated demand: 254.71 kWh\n",
            "estimated solar power generation without clouds: 9.54 kWh\n",
            "estimated solar power generation with clouds: 0.0 kWh\n",
            "battery cannot being used to supply energy, demand exceeds solar generation to a level that is below a safe minimum\n",
            "----------------------------------------------------\n",
            "it will be this cloudy: 100%\n",
            "it is going to rain\n",
            "finding matching month/day/time for: 2023-01-14 17:00:00\n",
            "estimated demand: 256.08 kWh\n",
            "estimated solar power generation without clouds: 0.0 kWh\n",
            "estimated solar power generation with clouds: 0.0 kWh\n",
            "battery cannot being used to supply energy, demand exceeds solar generation to a level that is below a safe minimum\n",
            "----------------------------------------------------\n",
            "it will be this cloudy: 100%\n",
            "it is going to rain\n",
            "finding matching month/day/time for: 2023-01-14 18:00:00\n",
            "estimated demand: 267.52 kWh\n",
            "estimated solar power generation without clouds: 0.0 kWh\n",
            "estimated solar power generation with clouds: 0.0 kWh\n",
            "battery cannot being used to supply energy, demand exceeds solar generation to a level that is below a safe minimum\n",
            "----------------------------------------------------\n",
            "it will be this cloudy: 100%\n",
            "it is going to rain\n",
            "finding matching month/day/time for: 2023-01-14 19:00:00\n",
            "estimated demand: 249.15 kWh\n",
            "estimated solar power generation without clouds: 0.0 kWh\n",
            "estimated solar power generation with clouds: 0.0 kWh\n",
            "battery cannot being used to supply energy, demand exceeds solar generation to a level that is below a safe minimum\n",
            "----------------------------------------------------\n",
            "it will be this cloudy: 100%\n",
            "it is going to rain\n",
            "finding matching month/day/time for: 2023-01-14 20:00:00\n",
            "estimated demand: 209.07 kWh\n",
            "estimated solar power generation without clouds: 0.0 kWh\n",
            "estimated solar power generation with clouds: 0.0 kWh\n",
            "battery cannot being used to supply energy, demand exceeds solar generation to a level that is below a safe minimum\n",
            "----------------------------------------------------\n",
            "it will be this cloudy: 100%\n",
            "it is going to rain\n",
            "finding matching month/day/time for: 2023-01-14 21:00:00\n",
            "estimated demand: 193.31 kWh\n",
            "estimated solar power generation without clouds: 0.0 kWh\n",
            "estimated solar power generation with clouds: 0.0 kWh\n",
            "battery cannot being used to supply energy, demand exceeds solar generation to a level that is below a safe minimum\n",
            "----------------------------------------------------\n",
            "it will be this cloudy: 100%\n",
            "it is going to rain\n",
            "finding matching month/day/time for: 2023-01-14 22:00:00\n",
            "estimated demand: 134.72 kWh\n",
            "estimated solar power generation without clouds: 0.0 kWh\n",
            "estimated solar power generation with clouds: 0.0 kWh\n",
            "battery cannot being used to supply energy, demand exceeds solar generation to a level that is below a safe minimum\n",
            "----------------------------------------------------\n",
            "it will be this cloudy: 100%\n",
            "it is going to rain\n",
            "finding matching month/day/time for: 2023-01-14 23:00:00\n",
            "estimated demand: 92.56 kWh\n",
            "estimated solar power generation without clouds: 0.0 kWh\n",
            "estimated solar power generation with clouds: 0.0 kWh\n",
            "battery cannot being used to supply energy, demand exceeds solar generation to a level that is below a safe minimum\n",
            "----------------------------------------------------\n",
            "it will be this cloudy: 100%\n",
            "it is going to rain\n",
            "finding matching month/day/time for: 2023-01-15 00:00:00\n",
            "estimated demand: 140.59 kWh\n",
            "estimated solar power generation without clouds: 0.0 kWh\n",
            "estimated solar power generation with clouds: 0.0 kWh\n",
            "battery cannot being used to supply energy, demand exceeds solar generation to a level that is below a safe minimum\n",
            "----------------------------------------------------\n",
            "it will be this cloudy: 100%\n",
            "it is going to rain\n",
            "finding matching month/day/time for: 2023-01-15 01:00:00\n",
            "estimated demand: 96.61 kWh\n",
            "estimated solar power generation without clouds: 0.0 kWh\n",
            "estimated solar power generation with clouds: 0.0 kWh\n",
            "battery cannot being used to supply energy, demand exceeds solar generation to a level that is below a safe minimum\n",
            "----------------------------------------------------\n",
            "it will be this cloudy: 100%\n",
            "it is going to rain\n",
            "finding matching month/day/time for: 2023-01-15 02:00:00\n",
            "estimated demand: 87.6 kWh\n",
            "estimated solar power generation without clouds: 0.0 kWh\n",
            "estimated solar power generation with clouds: 0.0 kWh\n",
            "battery cannot being used to supply energy, demand exceeds solar generation to a level that is below a safe minimum\n",
            "----------------------------------------------------\n",
            "it will be this cloudy: 100%\n",
            "it is going to rain\n",
            "finding matching month/day/time for: 2023-01-15 03:00:00\n",
            "estimated demand: 85.58 kWh\n",
            "estimated solar power generation without clouds: 0.0 kWh\n",
            "estimated solar power generation with clouds: 0.0 kWh\n",
            "battery cannot being used to supply energy, demand exceeds solar generation to a level that is below a safe minimum\n",
            "----------------------------------------------------\n",
            "it will be this cloudy: 98%\n",
            "it is going to rain\n",
            "finding matching month/day/time for: 2023-01-15 04:00:00\n",
            "estimated demand: 84.43 kWh\n",
            "estimated solar power generation without clouds: 0.0 kWh\n",
            "estimated solar power generation with clouds: 0.0 kWh\n",
            "battery cannot being used to supply energy, demand exceeds solar generation to a level that is below a safe minimum\n",
            "----------------------------------------------------\n",
            "it will be this cloudy: 98%\n",
            "it is going to rain\n",
            "finding matching month/day/time for: 2023-01-15 05:00:00\n",
            "estimated demand: 90.27 kWh\n",
            "estimated solar power generation without clouds: 0.0 kWh\n",
            "estimated solar power generation with clouds: 0.0 kWh\n",
            "battery cannot being used to supply energy, demand exceeds solar generation to a level that is below a safe minimum\n",
            "----------------------------------------------------\n",
            "it will be this cloudy: 98%\n",
            "it is going to rain\n",
            "finding matching month/day/time for: 2023-01-15 06:00:00\n",
            "estimated demand: 88.94 kWh\n",
            "estimated solar power generation without clouds: 0.0 kWh\n",
            "estimated solar power generation with clouds: 0.0 kWh\n",
            "battery cannot being used to supply energy, demand exceeds solar generation to a level that is below a safe minimum\n",
            "----------------------------------------------------\n",
            "it will be this cloudy: 96%\n",
            "it is going to rain\n",
            "finding matching month/day/time for: 2023-01-15 07:00:00\n",
            "estimated demand: 120.91 kWh\n",
            "estimated solar power generation without clouds: 0.0 kWh\n",
            "estimated solar power generation with clouds: 0.0 kWh\n",
            "battery cannot being used to supply energy, demand exceeds solar generation to a level that is below a safe minimum\n",
            "----------------------------------------------------\n",
            "it will be this cloudy: 96%\n",
            "it is going to rain\n",
            "finding matching month/day/time for: 2023-01-15 08:00:00\n",
            "estimated demand: 118.28 kWh\n",
            "estimated solar power generation without clouds: 9.82 kWh\n",
            "estimated solar power generation with clouds: 0.0 kWh\n",
            "battery cannot being used to supply energy, demand exceeds solar generation to a level that is below a safe minimum\n",
            "----------------------------------------------------\n",
            "it will be this cloudy: 96%\n",
            "it is going to rain\n",
            "finding matching month/day/time for: 2023-01-15 09:00:00\n",
            "estimated demand: 155.89 kWh\n",
            "estimated solar power generation without clouds: 40.14 kWh\n",
            "estimated solar power generation with clouds: 0.0 kWh\n",
            "battery cannot being used to supply energy, demand exceeds solar generation to a level that is below a safe minimum\n",
            "----------------------------------------------------\n",
            "it will be this cloudy: 98%\n",
            "it is not going to rain\n",
            "finding matching month/day/time for: 2023-01-15 10:00:00\n",
            "estimated demand: 134.96 kWh\n",
            "estimated solar power generation without clouds: 69.48 kWh\n",
            "estimated solar power generation with clouds: 1.39 kWh\n",
            "battery cannot being used to supply energy, demand exceeds solar generation to a level that is below a safe minimum\n",
            "----------------------------------------------------\n",
            "it will be this cloudy: 98%\n",
            "it is not going to rain\n",
            "finding matching month/day/time for: 2023-01-15 11:00:00\n",
            "estimated demand: 173.31 kWh\n",
            "estimated solar power generation without clouds: 89.26 kWh\n",
            "estimated solar power generation with clouds: 1.79 kWh\n",
            "battery cannot being used to supply energy, demand exceeds solar generation to a level that is below a safe minimum\n",
            "----------------------------------------------------\n",
            "it will be this cloudy: 98%\n",
            "it is not going to rain\n",
            "finding matching month/day/time for: 2023-01-15 12:00:00\n",
            "estimated demand: 204.94 kWh\n",
            "estimated solar power generation without clouds: 96.16 kWh\n",
            "estimated solar power generation with clouds: 1.92 kWh\n",
            "battery cannot being used to supply energy, demand exceeds solar generation to a level that is below a safe minimum\n",
            "----------------------------------------------------\n",
            "it will be this cloudy: 100%\n",
            "it is not going to rain\n",
            "finding matching month/day/time for: 2023-01-15 13:00:00\n",
            "estimated demand: 219.4 kWh\n",
            "estimated solar power generation without clouds: 89.26 kWh\n",
            "estimated solar power generation with clouds: 0.0 kWh\n",
            "battery cannot being used to supply energy, demand exceeds solar generation to a level that is below a safe minimum\n",
            "----------------------------------------------------\n",
            "it will be this cloudy: 100%\n",
            "it is not going to rain\n",
            "finding matching month/day/time for: 2023-01-15 14:00:00\n",
            "estimated demand: 221.58 kWh\n",
            "estimated solar power generation without clouds: 69.48 kWh\n",
            "estimated solar power generation with clouds: 0.0 kWh\n",
            "battery cannot being used to supply energy, demand exceeds solar generation to a level that is below a safe minimum\n",
            "----------------------------------------------------\n",
            "it will be this cloudy: 100%\n",
            "it is not going to rain\n",
            "finding matching month/day/time for: 2023-01-15 15:00:00\n",
            "estimated demand: 218.29 kWh\n",
            "estimated solar power generation without clouds: 40.14 kWh\n",
            "estimated solar power generation with clouds: 0.0 kWh\n",
            "battery cannot being used to supply energy, demand exceeds solar generation to a level that is below a safe minimum\n",
            "----------------------------------------------------\n",
            "it will be this cloudy: 100%\n",
            "it is not going to rain\n",
            "finding matching month/day/time for: 2023-01-15 16:00:00\n",
            "estimated demand: 213.94 kWh\n",
            "estimated solar power generation without clouds: 9.82 kWh\n",
            "estimated solar power generation with clouds: 0.0 kWh\n",
            "battery cannot being used to supply energy, demand exceeds solar generation to a level that is below a safe minimum\n",
            "----------------------------------------------------\n",
            "it will be this cloudy: 100%\n",
            "it is not going to rain\n",
            "finding matching month/day/time for: 2023-01-15 17:00:00\n",
            "estimated demand: 213.66 kWh\n",
            "estimated solar power generation without clouds: 0.0 kWh\n",
            "estimated solar power generation with clouds: 0.0 kWh\n",
            "battery cannot being used to supply energy, demand exceeds solar generation to a level that is below a safe minimum\n",
            "----------------------------------------------------\n",
            "it will be this cloudy: 100%\n",
            "it is not going to rain\n",
            "finding matching month/day/time for: 2023-01-15 18:00:00\n",
            "estimated demand: 198.04 kWh\n",
            "estimated solar power generation without clouds: 0.0 kWh\n",
            "estimated solar power generation with clouds: 0.0 kWh\n",
            "battery cannot being used to supply energy, demand exceeds solar generation to a level that is below a safe minimum\n",
            "----------------------------------------------------\n",
            "it will be this cloudy: 100%\n",
            "it is not going to rain\n",
            "finding matching month/day/time for: 2023-01-15 19:00:00\n",
            "estimated demand: 205.01 kWh\n",
            "estimated solar power generation without clouds: 0.0 kWh\n",
            "estimated solar power generation with clouds: 0.0 kWh\n",
            "battery cannot being used to supply energy, demand exceeds solar generation to a level that is below a safe minimum\n",
            "----------------------------------------------------\n",
            "it will be this cloudy: 100%\n",
            "it is not going to rain\n",
            "finding matching month/day/time for: 2023-01-15 20:00:00\n",
            "estimated demand: 190.61 kWh\n",
            "estimated solar power generation without clouds: 0.0 kWh\n",
            "estimated solar power generation with clouds: 0.0 kWh\n",
            "battery cannot being used to supply energy, demand exceeds solar generation to a level that is below a safe minimum\n",
            "----------------------------------------------------\n",
            "it will be this cloudy: 100%\n",
            "it is not going to rain\n",
            "finding matching month/day/time for: 2023-01-15 21:00:00\n",
            "estimated demand: 178.79 kWh\n",
            "estimated solar power generation without clouds: 0.0 kWh\n",
            "estimated solar power generation with clouds: 0.0 kWh\n",
            "battery cannot being used to supply energy, demand exceeds solar generation to a level that is below a safe minimum\n",
            "----------------------------------------------------\n",
            "it will be this cloudy: 100%\n",
            "it is not going to rain\n",
            "finding matching month/day/time for: 2023-01-15 22:00:00\n",
            "estimated demand: 160.51 kWh\n",
            "estimated solar power generation without clouds: 0.0 kWh\n",
            "estimated solar power generation with clouds: 0.0 kWh\n",
            "battery cannot being used to supply energy, demand exceeds solar generation to a level that is below a safe minimum\n",
            "----------------------------------------------------\n",
            "it will be this cloudy: 100%\n",
            "it is not going to rain\n",
            "finding matching month/day/time for: 2023-01-15 23:00:00\n",
            "estimated demand: 109.99 kWh\n",
            "estimated solar power generation without clouds: 0.0 kWh\n",
            "estimated solar power generation with clouds: 0.0 kWh\n",
            "battery cannot being used to supply energy, demand exceeds solar generation to a level that is below a safe minimum\n",
            "----------------------------------------------------\n",
            "it will be this cloudy: 100%\n",
            "it is not going to rain\n",
            "finding matching month/day/time for: 2023-01-16 00:00:00\n",
            "estimated demand: 131.42 kWh\n",
            "estimated solar power generation without clouds: 0.0 kWh\n",
            "estimated solar power generation with clouds: 0.0 kWh\n",
            "battery cannot being used to supply energy, demand exceeds solar generation to a level that is below a safe minimum\n",
            "----------------------------------------------------\n",
            "it will be this cloudy: 100%\n",
            "it is going to rain\n",
            "finding matching month/day/time for: 2023-01-16 01:00:00\n",
            "estimated demand: 110.88 kWh\n",
            "estimated solar power generation without clouds: 0.0 kWh\n",
            "estimated solar power generation with clouds: 0.0 kWh\n",
            "battery cannot being used to supply energy, demand exceeds solar generation to a level that is below a safe minimum\n",
            "----------------------------------------------------\n",
            "it will be this cloudy: 100%\n",
            "it is going to rain\n",
            "finding matching month/day/time for: 2023-01-16 02:00:00\n",
            "estimated demand: 98.53 kWh\n",
            "estimated solar power generation without clouds: 0.0 kWh\n",
            "estimated solar power generation with clouds: 0.0 kWh\n",
            "battery cannot being used to supply energy, demand exceeds solar generation to a level that is below a safe minimum\n",
            "----------------------------------------------------\n",
            "it will be this cloudy: 100%\n",
            "it is going to rain\n",
            "finding matching month/day/time for: 2023-01-16 03:00:00\n",
            "estimated demand: 94.62 kWh\n",
            "estimated solar power generation without clouds: 0.0 kWh\n",
            "estimated solar power generation with clouds: 0.0 kWh\n",
            "battery cannot being used to supply energy, demand exceeds solar generation to a level that is below a safe minimum\n",
            "----------------------------------------------------\n",
            "it will be this cloudy: 100%\n",
            "it is going to rain\n",
            "finding matching month/day/time for: 2023-01-16 04:00:00\n",
            "estimated demand: 90.79 kWh\n",
            "estimated solar power generation without clouds: 0.0 kWh\n",
            "estimated solar power generation with clouds: 0.0 kWh\n",
            "battery cannot being used to supply energy, demand exceeds solar generation to a level that is below a safe minimum\n",
            "----------------------------------------------------\n",
            "it will be this cloudy: 100%\n",
            "it is going to rain\n",
            "finding matching month/day/time for: 2023-01-16 05:00:00\n",
            "estimated demand: 94.08 kWh\n",
            "estimated solar power generation without clouds: 0.0 kWh\n",
            "estimated solar power generation with clouds: 0.0 kWh\n",
            "battery cannot being used to supply energy, demand exceeds solar generation to a level that is below a safe minimum\n",
            "----------------------------------------------------\n",
            "it will be this cloudy: 100%\n",
            "it is going to rain\n",
            "finding matching month/day/time for: 2023-01-16 06:00:00\n",
            "estimated demand: 91.98 kWh\n",
            "estimated solar power generation without clouds: 0.0 kWh\n",
            "estimated solar power generation with clouds: 0.0 kWh\n",
            "battery cannot being used to supply energy, demand exceeds solar generation to a level that is below a safe minimum\n",
            "----------------------------------------------------\n",
            "it will be this cloudy: 100%\n",
            "it is going to rain\n",
            "finding matching month/day/time for: 2023-01-16 07:00:00\n",
            "estimated demand: 123.27 kWh\n",
            "estimated solar power generation without clouds: 0.0 kWh\n",
            "estimated solar power generation with clouds: 0.0 kWh\n",
            "battery cannot being used to supply energy, demand exceeds solar generation to a level that is below a safe minimum\n",
            "----------------------------------------------------\n",
            "it will be this cloudy: 100%\n",
            "it is going to rain\n",
            "finding matching month/day/time for: 2023-01-16 08:00:00\n",
            "estimated demand: 119.93 kWh\n",
            "estimated solar power generation without clouds: 10.12 kWh\n",
            "estimated solar power generation with clouds: 0.0 kWh\n",
            "battery cannot being used to supply energy, demand exceeds solar generation to a level that is below a safe minimum\n",
            "----------------------------------------------------\n",
            "it will be this cloudy: 100%\n",
            "it is going to rain\n",
            "finding matching month/day/time for: 2023-01-16 09:00:00\n",
            "estimated demand: 157.63 kWh\n",
            "estimated solar power generation without clouds: 40.66 kWh\n",
            "estimated solar power generation with clouds: 0.0 kWh\n",
            "battery cannot being used to supply energy, demand exceeds solar generation to a level that is below a safe minimum\n",
            "----------------------------------------------------\n",
            "it will be this cloudy: 100%\n",
            "it is going to rain\n",
            "finding matching month/day/time for: 2023-01-16 10:00:00\n",
            "estimated demand: 137.61 kWh\n",
            "estimated solar power generation without clouds: 70.1 kWh\n",
            "estimated solar power generation with clouds: 0.0 kWh\n",
            "battery cannot being used to supply energy, demand exceeds solar generation to a level that is below a safe minimum\n",
            "----------------------------------------------------\n",
            "it will be this cloudy: 100%\n",
            "it is going to rain\n",
            "finding matching month/day/time for: 2023-01-16 11:00:00\n",
            "estimated demand: 176.59 kWh\n",
            "estimated solar power generation without clouds: 89.92 kWh\n",
            "estimated solar power generation with clouds: 0.0 kWh\n",
            "battery cannot being used to supply energy, demand exceeds solar generation to a level that is below a safe minimum\n",
            "----------------------------------------------------\n",
            "it will be this cloudy: 100%\n",
            "it is going to rain\n",
            "finding matching month/day/time for: 2023-01-16 12:00:00\n",
            "estimated demand: 207.77 kWh\n",
            "estimated solar power generation without clouds: 96.83 kWh\n",
            "estimated solar power generation with clouds: 0.0 kWh\n",
            "battery cannot being used to supply energy, demand exceeds solar generation to a level that is below a safe minimum\n",
            "----------------------------------------------------\n",
            "it will be this cloudy: 100%\n",
            "it is going to rain\n",
            "finding matching month/day/time for: 2023-01-16 13:00:00\n",
            "estimated demand: 223.14 kWh\n",
            "estimated solar power generation without clouds: 89.92 kWh\n",
            "estimated solar power generation with clouds: 0.0 kWh\n",
            "battery cannot being used to supply energy, demand exceeds solar generation to a level that is below a safe minimum\n",
            "----------------------------------------------------\n",
            "it will be this cloudy: 100%\n",
            "it is going to rain\n",
            "finding matching month/day/time for: 2023-01-16 14:00:00\n",
            "estimated demand: 222.1 kWh\n",
            "estimated solar power generation without clouds: 70.1 kWh\n",
            "estimated solar power generation with clouds: 0.0 kWh\n",
            "battery cannot being used to supply energy, demand exceeds solar generation to a level that is below a safe minimum\n",
            "----------------------------------------------------\n",
            "it will be this cloudy: 100%\n",
            "it is going to rain\n",
            "finding matching month/day/time for: 2023-01-16 15:00:00\n",
            "estimated demand: 218.25 kWh\n",
            "estimated solar power generation without clouds: 40.66 kWh\n",
            "estimated solar power generation with clouds: 0.0 kWh\n",
            "battery cannot being used to supply energy, demand exceeds solar generation to a level that is below a safe minimum\n",
            "----------------------------------------------------\n",
            "it will be this cloudy: 98%\n",
            "it is going to rain\n",
            "finding matching month/day/time for: 2023-01-16 16:00:00\n",
            "estimated demand: 212.46 kWh\n",
            "estimated solar power generation without clouds: 10.12 kWh\n",
            "estimated solar power generation with clouds: 0.0 kWh\n",
            "battery cannot being used to supply energy, demand exceeds solar generation to a level that is below a safe minimum\n",
            "----------------------------------------------------\n",
            "it will be this cloudy: 98%\n",
            "it is going to rain\n",
            "finding matching month/day/time for: 2023-01-16 17:00:00\n",
            "estimated demand: 210.21 kWh\n",
            "estimated solar power generation without clouds: 0.0 kWh\n",
            "estimated solar power generation with clouds: 0.0 kWh\n",
            "battery cannot being used to supply energy, demand exceeds solar generation to a level that is below a safe minimum\n",
            "----------------------------------------------------\n",
            "it will be this cloudy: 98%\n",
            "it is going to rain\n",
            "finding matching month/day/time for: 2023-01-16 18:00:00\n",
            "estimated demand: 192.69 kWh\n",
            "estimated solar power generation without clouds: 0.0 kWh\n",
            "estimated solar power generation with clouds: 0.0 kWh\n",
            "battery cannot being used to supply energy, demand exceeds solar generation to a level that is below a safe minimum\n",
            "----------------------------------------------------\n",
            "it will be this cloudy: 96%\n",
            "it is going to rain\n",
            "finding matching month/day/time for: 2023-01-16 19:00:00\n",
            "estimated demand: 200.62 kWh\n",
            "estimated solar power generation without clouds: 0.0 kWh\n",
            "estimated solar power generation with clouds: 0.0 kWh\n",
            "battery cannot being used to supply energy, demand exceeds solar generation to a level that is below a safe minimum\n",
            "----------------------------------------------------\n",
            "it will be this cloudy: 96%\n",
            "it is going to rain\n",
            "finding matching month/day/time for: 2023-01-16 20:00:00\n",
            "estimated demand: 189.03 kWh\n",
            "estimated solar power generation without clouds: 0.0 kWh\n",
            "estimated solar power generation with clouds: 0.0 kWh\n",
            "battery cannot being used to supply energy, demand exceeds solar generation to a level that is below a safe minimum\n",
            "----------------------------------------------------\n",
            "it will be this cloudy: 96%\n",
            "it is going to rain\n",
            "finding matching month/day/time for: 2023-01-16 21:00:00\n",
            "estimated demand: 177.66 kWh\n",
            "estimated solar power generation without clouds: 0.0 kWh\n",
            "estimated solar power generation with clouds: 0.0 kWh\n",
            "battery cannot being used to supply energy, demand exceeds solar generation to a level that is below a safe minimum\n",
            "----------------------------------------------------\n",
            "it will be this cloudy: 84%\n",
            "it is going to rain\n",
            "finding matching month/day/time for: 2023-01-16 22:00:00\n",
            "estimated demand: 153.41 kWh\n",
            "estimated solar power generation without clouds: 0.0 kWh\n",
            "estimated solar power generation with clouds: 0.0 kWh\n",
            "battery cannot being used to supply energy, demand exceeds solar generation to a level that is below a safe minimum\n",
            "----------------------------------------------------\n",
            "it will be this cloudy: 84%\n",
            "it is going to rain\n",
            "finding matching month/day/time for: 2023-01-16 23:00:00\n",
            "estimated demand: 100.06 kWh\n",
            "estimated solar power generation without clouds: 0.0 kWh\n",
            "estimated solar power generation with clouds: 0.0 kWh\n",
            "battery cannot being used to supply energy, demand exceeds solar generation to a level that is below a safe minimum\n",
            "----------------------------------------------------\n",
            "it will be this cloudy: 84%\n",
            "it is going to rain\n",
            "finding matching month/day/time for: 2023-01-17 00:00:00\n",
            "estimated demand: 125.07 kWh\n",
            "estimated solar power generation without clouds: 0.0 kWh\n",
            "estimated solar power generation with clouds: 0.0 kWh\n",
            "battery cannot being used to supply energy, demand exceeds solar generation to a level that is below a safe minimum\n",
            "----------------------------------------------------\n",
            "it will be this cloudy: 76%\n",
            "it is going to rain\n",
            "finding matching month/day/time for: 2023-01-17 01:00:00\n",
            "estimated demand: 103.4 kWh\n",
            "estimated solar power generation without clouds: 0.0 kWh\n",
            "estimated solar power generation with clouds: 0.0 kWh\n",
            "battery cannot being used to supply energy, demand exceeds solar generation to a level that is below a safe minimum\n",
            "----------------------------------------------------\n",
            "it will be this cloudy: 76%\n",
            "it is going to rain\n",
            "finding matching month/day/time for: 2023-01-17 02:00:00\n",
            "estimated demand: 91.78 kWh\n",
            "estimated solar power generation without clouds: 0.0 kWh\n",
            "estimated solar power generation with clouds: 0.0 kWh\n",
            "battery cannot being used to supply energy, demand exceeds solar generation to a level that is below a safe minimum\n",
            "----------------------------------------------------\n",
            "it will be this cloudy: 76%\n",
            "it is going to rain\n",
            "finding matching month/day/time for: 2023-01-17 03:00:00\n",
            "estimated demand: 89.62 kWh\n",
            "estimated solar power generation without clouds: 0.0 kWh\n",
            "estimated solar power generation with clouds: 0.0 kWh\n",
            "battery cannot being used to supply energy, demand exceeds solar generation to a level that is below a safe minimum\n",
            "----------------------------------------------------\n",
            "it will be this cloudy: 76%\n",
            "it is not going to rain\n",
            "finding matching month/day/time for: 2023-01-17 04:00:00\n",
            "estimated demand: 88.76 kWh\n",
            "estimated solar power generation without clouds: 0.0 kWh\n",
            "estimated solar power generation with clouds: 0.0 kWh\n",
            "battery cannot being used to supply energy, demand exceeds solar generation to a level that is below a safe minimum\n",
            "----------------------------------------------------\n",
            "it will be this cloudy: 76%\n",
            "it is not going to rain\n",
            "finding matching month/day/time for: 2023-01-17 05:00:00\n",
            "estimated demand: 111.91 kWh\n",
            "estimated solar power generation without clouds: 0.0 kWh\n",
            "estimated solar power generation with clouds: 0.0 kWh\n",
            "battery cannot being used to supply energy, demand exceeds solar generation to a level that is below a safe minimum\n",
            "----------------------------------------------------\n",
            "it will be this cloudy: 76%\n",
            "it is not going to rain\n",
            "finding matching month/day/time for: 2023-01-17 06:00:00\n",
            "estimated demand: 109.81 kWh\n",
            "estimated solar power generation without clouds: 0.0 kWh\n",
            "estimated solar power generation with clouds: 0.0 kWh\n",
            "battery cannot being used to supply energy, demand exceeds solar generation to a level that is below a safe minimum\n",
            "----------------------------------------------------\n",
            "it will be this cloudy: 28%\n",
            "it is not going to rain\n",
            "finding matching month/day/time for: 2023-01-17 07:00:00\n",
            "estimated demand: 153.06 kWh\n",
            "estimated solar power generation without clouds: 0.0 kWh\n",
            "estimated solar power generation with clouds: 0.0 kWh\n",
            "battery cannot being used to supply energy, demand exceeds solar generation to a level that is below a safe minimum\n",
            "----------------------------------------------------\n",
            "it will be this cloudy: 28%\n",
            "it is not going to rain\n",
            "finding matching month/day/time for: 2023-01-17 08:00:00\n",
            "estimated demand: 141.75 kWh\n",
            "estimated solar power generation without clouds: 10.44 kWh\n",
            "estimated solar power generation with clouds: 7.52 kWh\n",
            "battery cannot being used to supply energy, demand exceeds solar generation to a level that is below a safe minimum\n",
            "----------------------------------------------------\n",
            "it will be this cloudy: 28%\n",
            "it is not going to rain\n",
            "finding matching month/day/time for: 2023-01-17 09:00:00\n",
            "estimated demand: 215.28 kWh\n",
            "estimated solar power generation without clouds: 41.19 kWh\n",
            "estimated solar power generation with clouds: 29.66 kWh\n",
            "battery cannot being used to supply energy, demand exceeds solar generation to a level that is below a safe minimum\n",
            "----------------------------------------------------\n",
            "it will be this cloudy: 20%\n",
            "it is not going to rain\n",
            "finding matching month/day/time for: 2023-01-17 10:00:00\n",
            "estimated demand: 248.53 kWh\n",
            "estimated solar power generation without clouds: 70.73 kWh\n",
            "estimated solar power generation with clouds: 56.58 kWh\n",
            "battery cannot being used to supply energy, demand exceeds solar generation to a level that is below a safe minimum\n",
            "----------------------------------------------------\n",
            "it will be this cloudy: 20%\n",
            "it is not going to rain\n",
            "finding matching month/day/time for: 2023-01-17 11:00:00\n",
            "estimated demand: 245.79 kWh\n",
            "estimated solar power generation without clouds: 90.6 kWh\n",
            "estimated solar power generation with clouds: 72.48 kWh\n",
            "battery cannot being used to supply energy, demand exceeds solar generation to a level that is below a safe minimum\n",
            "----------------------------------------------------\n",
            "it will be this cloudy: 20%\n",
            "it is not going to rain\n",
            "finding matching month/day/time for: 2023-01-17 12:00:00\n",
            "estimated demand: 279.54 kWh\n",
            "estimated solar power generation without clouds: 97.53 kWh\n",
            "estimated solar power generation with clouds: 78.02 kWh\n",
            "battery cannot being used to supply energy, demand exceeds solar generation to a level that is below a safe minimum\n",
            "----------------------------------------------------\n",
            "it will be this cloudy: 8%\n",
            "it is not going to rain\n",
            "finding matching month/day/time for: 2023-01-17 13:00:00\n",
            "estimated demand: 266.05 kWh\n",
            "estimated solar power generation without clouds: 90.6 kWh\n",
            "estimated solar power generation with clouds: 83.35 kWh\n",
            "battery cannot being used to supply energy, demand exceeds solar generation to a level that is below a safe minimum\n",
            "----------------------------------------------------\n",
            "it will be this cloudy: 8%\n",
            "it is not going to rain\n",
            "finding matching month/day/time for: 2023-01-17 14:00:00\n",
            "estimated demand: 264.64 kWh\n",
            "estimated solar power generation without clouds: 70.73 kWh\n",
            "estimated solar power generation with clouds: 65.07 kWh\n",
            "battery cannot being used to supply energy, demand exceeds solar generation to a level that is below a safe minimum\n",
            "----------------------------------------------------\n",
            "it will be this cloudy: 8%\n",
            "it is not going to rain\n",
            "finding matching month/day/time for: 2023-01-17 15:00:00\n",
            "estimated demand: 261.65 kWh\n",
            "estimated solar power generation without clouds: 41.19 kWh\n",
            "estimated solar power generation with clouds: 37.89 kWh\n",
            "battery cannot being used to supply energy, demand exceeds solar generation to a level that is below a safe minimum\n",
            "----------------------------------------------------\n",
            "it will be this cloudy: 4%\n",
            "it is not going to rain\n",
            "finding matching month/day/time for: 2023-01-17 16:00:00\n",
            "estimated demand: 256.78 kWh\n",
            "estimated solar power generation without clouds: 10.44 kWh\n",
            "estimated solar power generation with clouds: 10.02 kWh\n",
            "battery cannot being used to supply energy, demand exceeds solar generation to a level that is below a safe minimum\n",
            "----------------------------------------------------\n",
            "it will be this cloudy: 4%\n",
            "it is not going to rain\n",
            "finding matching month/day/time for: 2023-01-17 17:00:00\n",
            "estimated demand: 253.8 kWh\n",
            "estimated solar power generation without clouds: 0.0 kWh\n",
            "estimated solar power generation with clouds: 0.0 kWh\n",
            "battery cannot being used to supply energy, demand exceeds solar generation to a level that is below a safe minimum\n",
            "----------------------------------------------------\n",
            "it will be this cloudy: 4%\n",
            "it is not going to rain\n",
            "finding matching month/day/time for: 2023-01-17 18:00:00\n",
            "estimated demand: 261.68 kWh\n",
            "estimated solar power generation without clouds: 0.0 kWh\n",
            "estimated solar power generation with clouds: 0.0 kWh\n",
            "battery cannot being used to supply energy, demand exceeds solar generation to a level that is below a safe minimum\n",
            "----------------------------------------------------\n",
            "it will be this cloudy: 1%\n",
            "it is not going to rain\n",
            "finding matching month/day/time for: 2023-01-17 19:00:00\n",
            "estimated demand: 255.8 kWh\n",
            "estimated solar power generation without clouds: 0.0 kWh\n",
            "estimated solar power generation with clouds: 0.0 kWh\n",
            "battery cannot being used to supply energy, demand exceeds solar generation to a level that is below a safe minimum\n",
            "----------------------------------------------------\n",
            "it will be this cloudy: 1%\n",
            "it is not going to rain\n",
            "finding matching month/day/time for: 2023-01-17 20:00:00\n",
            "estimated demand: 230.59 kWh\n",
            "estimated solar power generation without clouds: 0.0 kWh\n",
            "estimated solar power generation with clouds: 0.0 kWh\n",
            "battery cannot being used to supply energy, demand exceeds solar generation to a level that is below a safe minimum\n",
            "----------------------------------------------------\n",
            "it will be this cloudy: 1%\n",
            "it is not going to rain\n",
            "finding matching month/day/time for: 2023-01-17 21:00:00\n",
            "estimated demand: 199.76 kWh\n",
            "estimated solar power generation without clouds: 0.0 kWh\n",
            "estimated solar power generation with clouds: 0.0 kWh\n",
            "battery cannot being used to supply energy, demand exceeds solar generation to a level that is below a safe minimum\n",
            "----------------------------------------------------\n",
            "it will be this cloudy: 2%\n",
            "it is not going to rain\n",
            "finding matching month/day/time for: 2023-01-17 22:00:00\n",
            "estimated demand: 137.85 kWh\n",
            "estimated solar power generation without clouds: 0.0 kWh\n",
            "estimated solar power generation with clouds: 0.0 kWh\n",
            "battery cannot being used to supply energy, demand exceeds solar generation to a level that is below a safe minimum\n",
            "----------------------------------------------------\n",
            "it will be this cloudy: 2%\n",
            "it is not going to rain\n",
            "finding matching month/day/time for: 2023-01-17 23:00:00\n",
            "estimated demand: 90.61 kWh\n",
            "estimated solar power generation without clouds: 0.0 kWh\n",
            "estimated solar power generation with clouds: 0.0 kWh\n",
            "battery and solar can be used to supply energy, battery is above the safe minimum\n",
            "----------------------------------------------------\n",
            "it will be this cloudy: 2%\n",
            "it is not going to rain\n",
            "finding matching month/day/time for: 2023-01-18 00:00:00\n",
            "estimated demand: 137.61 kWh\n",
            "estimated solar power generation without clouds: 0.0 kWh\n",
            "estimated solar power generation with clouds: 0.0 kWh\n",
            "battery cannot being used to supply energy, demand exceeds solar generation to a level that is below a safe minimum\n",
            "----------------------------------------------------\n",
            "it will be this cloudy: 2%\n",
            "it is not going to rain\n",
            "finding matching month/day/time for: 2023-01-18 01:00:00\n",
            "estimated demand: 98.11 kWh\n",
            "estimated solar power generation without clouds: 0.0 kWh\n",
            "estimated solar power generation with clouds: 0.0 kWh\n",
            "battery cannot being used to supply energy, demand exceeds solar generation to a level that is below a safe minimum\n",
            "----------------------------------------------------\n",
            "it will be this cloudy: 2%\n",
            "it is not going to rain\n",
            "finding matching month/day/time for: 2023-01-18 02:00:00\n",
            "estimated demand: 89.22 kWh\n",
            "estimated solar power generation without clouds: 0.0 kWh\n",
            "estimated solar power generation with clouds: 0.0 kWh\n",
            "battery cannot being used to supply energy, demand exceeds solar generation to a level that is below a safe minimum\n",
            "----------------------------------------------------\n",
            "it will be this cloudy: 2%\n",
            "it is not going to rain\n",
            "finding matching month/day/time for: 2023-01-18 03:00:00\n",
            "estimated demand: 88.52 kWh\n",
            "estimated solar power generation without clouds: 0.0 kWh\n",
            "estimated solar power generation with clouds: 0.0 kWh\n",
            "battery cannot being used to supply energy, demand exceeds solar generation to a level that is below a safe minimum\n",
            "----------------------------------------------------\n",
            "it will be this cloudy: 30%\n",
            "it is not going to rain\n",
            "finding matching month/day/time for: 2023-01-18 04:00:00\n",
            "estimated demand: 87.93 kWh\n",
            "estimated solar power generation without clouds: 0.0 kWh\n",
            "estimated solar power generation with clouds: 0.0 kWh\n",
            "battery cannot being used to supply energy, demand exceeds solar generation to a level that is below a safe minimum\n",
            "----------------------------------------------------\n",
            "it will be this cloudy: 30%\n",
            "it is not going to rain\n",
            "finding matching month/day/time for: 2023-01-18 05:00:00\n",
            "estimated demand: 95.05 kWh\n",
            "estimated solar power generation without clouds: 0.0 kWh\n",
            "estimated solar power generation with clouds: 0.0 kWh\n",
            "battery cannot being used to supply energy, demand exceeds solar generation to a level that is below a safe minimum\n",
            "----------------------------------------------------\n",
            "it will be this cloudy: 30%\n",
            "it is not going to rain\n",
            "finding matching month/day/time for: 2023-01-18 06:00:00\n",
            "estimated demand: 94.52 kWh\n",
            "estimated solar power generation without clouds: 0.0 kWh\n",
            "estimated solar power generation with clouds: 0.0 kWh\n",
            "battery cannot being used to supply energy, demand exceeds solar generation to a level that is below a safe minimum\n",
            "----------------------------------------------------\n",
            "it will be this cloudy: 100%\n",
            "it is not going to rain\n",
            "finding matching month/day/time for: 2023-01-18 07:00:00\n",
            "estimated demand: 138.24 kWh\n",
            "estimated solar power generation without clouds: 0.0 kWh\n",
            "estimated solar power generation with clouds: 0.0 kWh\n",
            "battery cannot being used to supply energy, demand exceeds solar generation to a level that is below a safe minimum\n",
            "----------------------------------------------------\n",
            "it will be this cloudy: 100%\n",
            "it is not going to rain\n",
            "finding matching month/day/time for: 2023-01-18 08:00:00\n",
            "estimated demand: 137.73 kWh\n",
            "estimated solar power generation without clouds: 10.77 kWh\n",
            "estimated solar power generation with clouds: 0.0 kWh\n",
            "battery cannot being used to supply energy, demand exceeds solar generation to a level that is below a safe minimum\n",
            "----------------------------------------------------\n",
            "it will be this cloudy: 100%\n",
            "it is not going to rain\n",
            "finding matching month/day/time for: 2023-01-18 09:00:00\n",
            "estimated demand: 218.58 kWh\n",
            "estimated solar power generation without clouds: 41.75 kWh\n",
            "estimated solar power generation with clouds: 0.0 kWh\n",
            "battery cannot being used to supply energy, demand exceeds solar generation to a level that is below a safe minimum\n",
            "----------------------------------------------------\n",
            "it will be this cloudy: 100%\n",
            "it is not going to rain\n",
            "finding matching month/day/time for: 2023-01-18 10:00:00\n",
            "estimated demand: 251.91 kWh\n",
            "estimated solar power generation without clouds: 71.39 kWh\n",
            "estimated solar power generation with clouds: 0.0 kWh\n",
            "battery cannot being used to supply energy, demand exceeds solar generation to a level that is below a safe minimum\n",
            "----------------------------------------------------\n",
            "it will be this cloudy: 100%\n",
            "it is not going to rain\n",
            "finding matching month/day/time for: 2023-01-18 11:00:00\n",
            "estimated demand: 248.28 kWh\n",
            "estimated solar power generation without clouds: 91.3 kWh\n",
            "estimated solar power generation with clouds: 0.0 kWh\n",
            "battery cannot being used to supply energy, demand exceeds solar generation to a level that is below a safe minimum\n",
            "----------------------------------------------------\n",
            "it will be this cloudy: 100%\n",
            "it is not going to rain\n",
            "finding matching month/day/time for: 2023-01-18 12:00:00\n",
            "estimated demand: 283.64 kWh\n",
            "estimated solar power generation without clouds: 98.25 kWh\n",
            "estimated solar power generation with clouds: 0.0 kWh\n",
            "battery cannot being used to supply energy, demand exceeds solar generation to a level that is below a safe minimum\n",
            "----------------------------------------------------\n",
            "it will be this cloudy: 100%\n",
            "it is not going to rain\n",
            "finding matching month/day/time for: 2023-01-18 13:00:00\n",
            "estimated demand: 274.83 kWh\n",
            "estimated solar power generation without clouds: 91.3 kWh\n",
            "estimated solar power generation with clouds: 0.0 kWh\n",
            "battery cannot being used to supply energy, demand exceeds solar generation to a level that is below a safe minimum\n",
            "----------------------------------------------------\n",
            "it will be this cloudy: 100%\n",
            "it is not going to rain\n",
            "finding matching month/day/time for: 2023-01-18 14:00:00\n",
            "estimated demand: 270.79 kWh\n",
            "estimated solar power generation without clouds: 71.39 kWh\n",
            "estimated solar power generation with clouds: 0.0 kWh\n",
            "battery cannot being used to supply energy, demand exceeds solar generation to a level that is below a safe minimum\n",
            "----------------------------------------------------\n",
            "it will be this cloudy: 100%\n",
            "it is not going to rain\n",
            "finding matching month/day/time for: 2023-01-18 15:00:00\n",
            "estimated demand: 265.36 kWh\n",
            "estimated solar power generation without clouds: 41.75 kWh\n",
            "estimated solar power generation with clouds: 0.0 kWh\n",
            "battery cannot being used to supply energy, demand exceeds solar generation to a level that is below a safe minimum\n",
            "----------------------------------------------------\n",
            "it will be this cloudy: 98%\n",
            "it is not going to rain\n",
            "finding matching month/day/time for: 2023-01-18 16:00:00\n",
            "estimated demand: 257.42 kWh\n",
            "estimated solar power generation without clouds: 10.77 kWh\n",
            "estimated solar power generation with clouds: 0.22 kWh\n",
            "battery cannot being used to supply energy, demand exceeds solar generation to a level that is below a safe minimum\n",
            "----------------------------------------------------\n",
            "it will be this cloudy: 98%\n",
            "it is not going to rain\n",
            "finding matching month/day/time for: 2023-01-18 17:00:00\n",
            "estimated demand: 254.78 kWh\n",
            "estimated solar power generation without clouds: 0.0 kWh\n",
            "estimated solar power generation with clouds: 0.0 kWh\n",
            "battery cannot being used to supply energy, demand exceeds solar generation to a level that is below a safe minimum\n",
            "----------------------------------------------------\n",
            "it will be this cloudy: 98%\n",
            "it is not going to rain\n",
            "finding matching month/day/time for: 2023-01-18 18:00:00\n",
            "estimated demand: 262.21 kWh\n",
            "estimated solar power generation without clouds: 0.0 kWh\n",
            "estimated solar power generation with clouds: 0.0 kWh\n",
            "battery cannot being used to supply energy, demand exceeds solar generation to a level that is below a safe minimum\n",
            "----------------------------------------------------\n"
          ]
        }
      ],
      "source": [
        "\n",
        "### LOOP GENERATION\n",
        "battery_level = np.round(float(user_supplied_battery_size)*(float(battery_percent_input)/100),2)\n",
        "print('starting battery start amount: ' + str(battery_level))\n",
        "\n",
        "battery_levels_out = []\n",
        "solar_power_generated = []\n",
        "estimated_demand = []\n",
        "rainfall_out = []\n",
        "cloudiness_out = []\n",
        "\n",
        "for i in range(0,np.shape(range_all_day_times)[0]):\n",
        "  input_date = str(range_all_day_times[i])\n",
        "  #this line determines which forecast to use, finds the closest date/time\n",
        "  index_forecast = range_forecast_times.searchsorted(range_all_day_times[i])\n",
        "  temp_forecast_data = forecast_data['list'][index_forecast]\n",
        "  cloudiness = temp_forecast_data[\"clouds\"][\"all\"]\n",
        "  print('it will be this cloudy: ' + str(cloudiness) + '%')\n",
        "  try: \n",
        "    temp_forecast_data['rain']['3h']\n",
        "  except:\n",
        "    rainfall = 0\n",
        "    print('it is not going to rain')\n",
        "  else:\n",
        "    rainfall = temp_forecast_data['rain']['3h']\n",
        "    print('it is going to rain')\n",
        "  rainfall_out.append(rainfall)\n",
        "  year_forecast = int(input_date[0:4])\n",
        "  month_forecast = int(input_date[5:7])\n",
        "  day_forecast = int(input_date[8:10])\n",
        "  time_of_day_forecast = (input_date[11:])\n",
        "  if time_of_day_forecast == '00:00:00':\n",
        "    time_of_day_adjust = '24:00:00'\n",
        "  else:\n",
        "    time_of_day_adjust = time_of_day_forecast\n",
        "\n",
        "  print('finding matching month/day/time for: ' + str(input_date)) \n",
        "  demand_kwh = np.round(demand_data[(demand_data['month']==month_forecast)&(demand_data['day']==day_forecast)&(demand_data['time_of_day']==time_of_day_adjust)]['kwh'].values[0],2)\n",
        "  estimated_demand.append(demand_kwh)\n",
        "  #demand_estimated\n",
        "  print('estimated demand: ' + str(demand_kwh) + ' kWh')\n",
        "  panel = solar_panel(2.1, 0.2, id_name='example')  # surface, efficiency and name\n",
        "  panel.set_orientation(np.array([0, 0, -1]))  # upwards\n",
        "  panel.set_position(zip_lat, zip_lon, 0)  # NYC latitude, longitude, altitude\n",
        "  panel.set_datetime(datetime(year_forecast, month_forecast, day_forecast, int(time_of_day_forecast[0:2]), 0))  # Christmas Day!\n",
        "  one_panel_energy_W = panel.power()\n",
        "  all_panels_energy_kWh_no_clouds = np.round((one_panel_energy_W*float(num_of_panels))/1000,2)\n",
        "  if rainfall > 0:\n",
        "    cloudiness = 100  \n",
        "  cloudiness_out.append(cloudiness)\n",
        "  all_panels_energy_kWh_with_clouds = np.round((all_panels_energy_kWh_no_clouds * (100-cloudiness)/100),2)\n",
        "  print('estimated solar power generation without clouds: ' + str(all_panels_energy_kWh_no_clouds) + ' kWh')\n",
        "  print('estimated solar power generation with clouds: ' + str(all_panels_energy_kWh_with_clouds) + ' kWh')\n",
        "  solar_power_generated.append(all_panels_energy_kWh_with_clouds)\n",
        "  estimated_new_battery_level = np.round((battery_level - demand_kwh + all_panels_energy_kWh_with_clouds),2)\n",
        "  #print(str(estimated_new_battery_level))\n",
        "  #print(str(float(user_supplied_battery_size)*(battery_min_level/100)))\n",
        "  if estimated_new_battery_level < float(user_supplied_battery_size)*(battery_min_level/100):\n",
        "    print('battery cannot being used to supply energy, demand exceeds solar generation to a level that is below a safe minimum')\n",
        "    battery_level = battery_level + all_panels_energy_kWh_with_clouds\n",
        "    battery_level = np.min([(battery_level),float(user_supplied_battery_size)])\n",
        "\n",
        "    battery_levels_out.append(battery_level)\n",
        "\n",
        "\n",
        "  else:\n",
        "    print('battery and solar can be used to supply energy, battery is above the safe minimum')\n",
        "\n",
        "    battery_level = np.min([(estimated_new_battery_level),float(user_supplied_battery_size)])\n",
        "\n",
        "    battery_levels_out.append(battery_level)\n",
        "  print('----------------------------------------------------')\n",
        "\n",
        "\n",
        "\n",
        "\n",
        "\n"
      ]
    },
    {
      "cell_type": "code",
      "execution_count": 17,
      "metadata": {
        "id": "Fd1-lV8HShpP"
      },
      "outputs": [],
      "source": [
        "output_df = pd.DataFrame({'dates':range_all_day_times,'battery level': battery_levels_out,\n",
        "                          'solar power generated':solar_power_generated,'estimated demand':estimated_demand,\n",
        "                          'cloudiness percent': cloudiness_out,'rainfall amount':rainfall_out})"
      ]
    },
    {
      "cell_type": "markdown",
      "metadata": {
        "id": "AWXFGF9YZVXA"
      },
      "source": [
        "### Generate plots from ouputs"
      ]
    },
    {
      "cell_type": "code",
      "execution_count": 18,
      "metadata": {
        "colab": {
          "base_uri": "https://localhost:8080/",
          "height": 817
        },
        "id": "uMFm-43GWQMu",
        "outputId": "de293a03-d463-4980-b6b0-c7f0b1a3bd70"
      },
      "outputs": [
        {
          "data": {
            "application/vnd.plotly.v1+json": {
              "config": {
                "plotlyServerURL": "https://plot.ly"
              },
              "data": [
                {
                  "name": "Cloudiness",
                  "type": "scatter",
                  "x": [
                    "2023-01-13T21:00:00",
                    "2023-01-13T22:00:00",
                    "2023-01-13T23:00:00",
                    "2023-01-14T00:00:00",
                    "2023-01-14T01:00:00",
                    "2023-01-14T02:00:00",
                    "2023-01-14T03:00:00",
                    "2023-01-14T04:00:00",
                    "2023-01-14T05:00:00",
                    "2023-01-14T06:00:00",
                    "2023-01-14T07:00:00",
                    "2023-01-14T08:00:00",
                    "2023-01-14T09:00:00",
                    "2023-01-14T10:00:00",
                    "2023-01-14T11:00:00",
                    "2023-01-14T12:00:00",
                    "2023-01-14T13:00:00",
                    "2023-01-14T14:00:00",
                    "2023-01-14T15:00:00",
                    "2023-01-14T16:00:00",
                    "2023-01-14T17:00:00",
                    "2023-01-14T18:00:00",
                    "2023-01-14T19:00:00",
                    "2023-01-14T20:00:00",
                    "2023-01-14T21:00:00",
                    "2023-01-14T22:00:00",
                    "2023-01-14T23:00:00",
                    "2023-01-15T00:00:00",
                    "2023-01-15T01:00:00",
                    "2023-01-15T02:00:00",
                    "2023-01-15T03:00:00",
                    "2023-01-15T04:00:00",
                    "2023-01-15T05:00:00",
                    "2023-01-15T06:00:00",
                    "2023-01-15T07:00:00",
                    "2023-01-15T08:00:00",
                    "2023-01-15T09:00:00",
                    "2023-01-15T10:00:00",
                    "2023-01-15T11:00:00",
                    "2023-01-15T12:00:00",
                    "2023-01-15T13:00:00",
                    "2023-01-15T14:00:00",
                    "2023-01-15T15:00:00",
                    "2023-01-15T16:00:00",
                    "2023-01-15T17:00:00",
                    "2023-01-15T18:00:00",
                    "2023-01-15T19:00:00",
                    "2023-01-15T20:00:00",
                    "2023-01-15T21:00:00",
                    "2023-01-15T22:00:00",
                    "2023-01-15T23:00:00",
                    "2023-01-16T00:00:00",
                    "2023-01-16T01:00:00",
                    "2023-01-16T02:00:00",
                    "2023-01-16T03:00:00",
                    "2023-01-16T04:00:00",
                    "2023-01-16T05:00:00",
                    "2023-01-16T06:00:00",
                    "2023-01-16T07:00:00",
                    "2023-01-16T08:00:00",
                    "2023-01-16T09:00:00",
                    "2023-01-16T10:00:00",
                    "2023-01-16T11:00:00",
                    "2023-01-16T12:00:00",
                    "2023-01-16T13:00:00",
                    "2023-01-16T14:00:00",
                    "2023-01-16T15:00:00",
                    "2023-01-16T16:00:00",
                    "2023-01-16T17:00:00",
                    "2023-01-16T18:00:00",
                    "2023-01-16T19:00:00",
                    "2023-01-16T20:00:00",
                    "2023-01-16T21:00:00",
                    "2023-01-16T22:00:00",
                    "2023-01-16T23:00:00",
                    "2023-01-17T00:00:00",
                    "2023-01-17T01:00:00",
                    "2023-01-17T02:00:00",
                    "2023-01-17T03:00:00",
                    "2023-01-17T04:00:00",
                    "2023-01-17T05:00:00",
                    "2023-01-17T06:00:00",
                    "2023-01-17T07:00:00",
                    "2023-01-17T08:00:00",
                    "2023-01-17T09:00:00",
                    "2023-01-17T10:00:00",
                    "2023-01-17T11:00:00",
                    "2023-01-17T12:00:00",
                    "2023-01-17T13:00:00",
                    "2023-01-17T14:00:00",
                    "2023-01-17T15:00:00",
                    "2023-01-17T16:00:00",
                    "2023-01-17T17:00:00",
                    "2023-01-17T18:00:00",
                    "2023-01-17T19:00:00",
                    "2023-01-17T20:00:00",
                    "2023-01-17T21:00:00",
                    "2023-01-17T22:00:00",
                    "2023-01-17T23:00:00",
                    "2023-01-18T00:00:00",
                    "2023-01-18T01:00:00",
                    "2023-01-18T02:00:00",
                    "2023-01-18T03:00:00",
                    "2023-01-18T04:00:00",
                    "2023-01-18T05:00:00",
                    "2023-01-18T06:00:00",
                    "2023-01-18T07:00:00",
                    "2023-01-18T08:00:00",
                    "2023-01-18T09:00:00",
                    "2023-01-18T10:00:00",
                    "2023-01-18T11:00:00",
                    "2023-01-18T12:00:00",
                    "2023-01-18T13:00:00",
                    "2023-01-18T14:00:00",
                    "2023-01-18T15:00:00",
                    "2023-01-18T16:00:00",
                    "2023-01-18T17:00:00",
                    "2023-01-18T18:00:00"
                  ],
                  "xaxis": "x",
                  "y": [
                    100,
                    100,
                    100,
                    100,
                    85,
                    85,
                    85,
                    88,
                    88,
                    88,
                    100,
                    100,
                    100,
                    100,
                    100,
                    100,
                    100,
                    100,
                    100,
                    100,
                    100,
                    100,
                    100,
                    100,
                    100,
                    100,
                    100,
                    100,
                    100,
                    100,
                    100,
                    100,
                    100,
                    100,
                    100,
                    100,
                    100,
                    98,
                    98,
                    98,
                    100,
                    100,
                    100,
                    100,
                    100,
                    100,
                    100,
                    100,
                    100,
                    100,
                    100,
                    100,
                    100,
                    100,
                    100,
                    100,
                    100,
                    100,
                    100,
                    100,
                    100,
                    100,
                    100,
                    100,
                    100,
                    100,
                    100,
                    100,
                    100,
                    100,
                    100,
                    100,
                    100,
                    100,
                    100,
                    100,
                    100,
                    100,
                    100,
                    76,
                    76,
                    76,
                    28,
                    28,
                    28,
                    20,
                    20,
                    20,
                    8,
                    8,
                    8,
                    4,
                    4,
                    4,
                    1,
                    1,
                    1,
                    2,
                    2,
                    2,
                    2,
                    2,
                    2,
                    30,
                    30,
                    30,
                    100,
                    100,
                    100,
                    100,
                    100,
                    100,
                    100,
                    100,
                    100,
                    98,
                    98,
                    98
                  ],
                  "yaxis": "y"
                },
                {
                  "name": "Battery Level",
                  "type": "scatter",
                  "x": [
                    "2023-01-13T21:00:00",
                    "2023-01-13T22:00:00",
                    "2023-01-13T23:00:00",
                    "2023-01-14T00:00:00",
                    "2023-01-14T01:00:00",
                    "2023-01-14T02:00:00",
                    "2023-01-14T03:00:00",
                    "2023-01-14T04:00:00",
                    "2023-01-14T05:00:00",
                    "2023-01-14T06:00:00",
                    "2023-01-14T07:00:00",
                    "2023-01-14T08:00:00",
                    "2023-01-14T09:00:00",
                    "2023-01-14T10:00:00",
                    "2023-01-14T11:00:00",
                    "2023-01-14T12:00:00",
                    "2023-01-14T13:00:00",
                    "2023-01-14T14:00:00",
                    "2023-01-14T15:00:00",
                    "2023-01-14T16:00:00",
                    "2023-01-14T17:00:00",
                    "2023-01-14T18:00:00",
                    "2023-01-14T19:00:00",
                    "2023-01-14T20:00:00",
                    "2023-01-14T21:00:00",
                    "2023-01-14T22:00:00",
                    "2023-01-14T23:00:00",
                    "2023-01-15T00:00:00",
                    "2023-01-15T01:00:00",
                    "2023-01-15T02:00:00",
                    "2023-01-15T03:00:00",
                    "2023-01-15T04:00:00",
                    "2023-01-15T05:00:00",
                    "2023-01-15T06:00:00",
                    "2023-01-15T07:00:00",
                    "2023-01-15T08:00:00",
                    "2023-01-15T09:00:00",
                    "2023-01-15T10:00:00",
                    "2023-01-15T11:00:00",
                    "2023-01-15T12:00:00",
                    "2023-01-15T13:00:00",
                    "2023-01-15T14:00:00",
                    "2023-01-15T15:00:00",
                    "2023-01-15T16:00:00",
                    "2023-01-15T17:00:00",
                    "2023-01-15T18:00:00",
                    "2023-01-15T19:00:00",
                    "2023-01-15T20:00:00",
                    "2023-01-15T21:00:00",
                    "2023-01-15T22:00:00",
                    "2023-01-15T23:00:00",
                    "2023-01-16T00:00:00",
                    "2023-01-16T01:00:00",
                    "2023-01-16T02:00:00",
                    "2023-01-16T03:00:00",
                    "2023-01-16T04:00:00",
                    "2023-01-16T05:00:00",
                    "2023-01-16T06:00:00",
                    "2023-01-16T07:00:00",
                    "2023-01-16T08:00:00",
                    "2023-01-16T09:00:00",
                    "2023-01-16T10:00:00",
                    "2023-01-16T11:00:00",
                    "2023-01-16T12:00:00",
                    "2023-01-16T13:00:00",
                    "2023-01-16T14:00:00",
                    "2023-01-16T15:00:00",
                    "2023-01-16T16:00:00",
                    "2023-01-16T17:00:00",
                    "2023-01-16T18:00:00",
                    "2023-01-16T19:00:00",
                    "2023-01-16T20:00:00",
                    "2023-01-16T21:00:00",
                    "2023-01-16T22:00:00",
                    "2023-01-16T23:00:00",
                    "2023-01-17T00:00:00",
                    "2023-01-17T01:00:00",
                    "2023-01-17T02:00:00",
                    "2023-01-17T03:00:00",
                    "2023-01-17T04:00:00",
                    "2023-01-17T05:00:00",
                    "2023-01-17T06:00:00",
                    "2023-01-17T07:00:00",
                    "2023-01-17T08:00:00",
                    "2023-01-17T09:00:00",
                    "2023-01-17T10:00:00",
                    "2023-01-17T11:00:00",
                    "2023-01-17T12:00:00",
                    "2023-01-17T13:00:00",
                    "2023-01-17T14:00:00",
                    "2023-01-17T15:00:00",
                    "2023-01-17T16:00:00",
                    "2023-01-17T17:00:00",
                    "2023-01-17T18:00:00",
                    "2023-01-17T19:00:00",
                    "2023-01-17T20:00:00",
                    "2023-01-17T21:00:00",
                    "2023-01-17T22:00:00",
                    "2023-01-17T23:00:00",
                    "2023-01-18T00:00:00",
                    "2023-01-18T01:00:00",
                    "2023-01-18T02:00:00",
                    "2023-01-18T03:00:00",
                    "2023-01-18T04:00:00",
                    "2023-01-18T05:00:00",
                    "2023-01-18T06:00:00",
                    "2023-01-18T07:00:00",
                    "2023-01-18T08:00:00",
                    "2023-01-18T09:00:00",
                    "2023-01-18T10:00:00",
                    "2023-01-18T11:00:00",
                    "2023-01-18T12:00:00",
                    "2023-01-18T13:00:00",
                    "2023-01-18T14:00:00",
                    "2023-01-18T15:00:00",
                    "2023-01-18T16:00:00",
                    "2023-01-18T17:00:00",
                    "2023-01-18T18:00:00"
                  ],
                  "xaxis": "x2",
                  "y": [
                    242.5,
                    242.5,
                    132.7,
                    132.7,
                    132.7,
                    132.7,
                    132.7,
                    132.7,
                    132.7,
                    132.7,
                    132.7,
                    132.7,
                    132.7,
                    132.7,
                    132.7,
                    132.7,
                    132.7,
                    132.7,
                    132.7,
                    132.7,
                    132.7,
                    132.7,
                    132.7,
                    132.7,
                    132.7,
                    132.7,
                    132.7,
                    132.7,
                    132.7,
                    132.7,
                    132.7,
                    132.7,
                    132.7,
                    132.7,
                    132.7,
                    132.7,
                    132.7,
                    134.08999999999997,
                    135.87999999999997,
                    137.79999999999995,
                    137.79999999999995,
                    137.79999999999995,
                    137.79999999999995,
                    137.79999999999995,
                    137.79999999999995,
                    137.79999999999995,
                    137.79999999999995,
                    137.79999999999995,
                    137.79999999999995,
                    137.79999999999995,
                    137.79999999999995,
                    137.79999999999995,
                    137.79999999999995,
                    137.79999999999995,
                    137.79999999999995,
                    137.79999999999995,
                    137.79999999999995,
                    137.79999999999995,
                    137.79999999999995,
                    137.79999999999995,
                    137.79999999999995,
                    137.79999999999995,
                    137.79999999999995,
                    137.79999999999995,
                    137.79999999999995,
                    137.79999999999995,
                    137.79999999999995,
                    137.79999999999995,
                    137.79999999999995,
                    137.79999999999995,
                    137.79999999999995,
                    137.79999999999995,
                    137.79999999999995,
                    137.79999999999995,
                    137.79999999999995,
                    137.79999999999995,
                    137.79999999999995,
                    137.79999999999995,
                    137.79999999999995,
                    137.79999999999995,
                    137.79999999999995,
                    137.79999999999995,
                    137.79999999999995,
                    145.31999999999996,
                    174.97999999999996,
                    231.55999999999995,
                    250,
                    250,
                    250,
                    250,
                    250,
                    250,
                    250,
                    250,
                    250,
                    250,
                    250,
                    250,
                    159.39,
                    159.39,
                    159.39,
                    159.39,
                    159.39,
                    159.39,
                    159.39,
                    159.39,
                    159.39,
                    159.39,
                    159.39,
                    159.39,
                    159.39,
                    159.39,
                    159.39,
                    159.39,
                    159.39,
                    159.60999999999999,
                    159.60999999999999,
                    159.60999999999999
                  ],
                  "yaxis": "y2"
                },
                {
                  "name": "Solar Power Generated",
                  "type": "scatter",
                  "x": [
                    "2023-01-13T21:00:00",
                    "2023-01-13T22:00:00",
                    "2023-01-13T23:00:00",
                    "2023-01-14T00:00:00",
                    "2023-01-14T01:00:00",
                    "2023-01-14T02:00:00",
                    "2023-01-14T03:00:00",
                    "2023-01-14T04:00:00",
                    "2023-01-14T05:00:00",
                    "2023-01-14T06:00:00",
                    "2023-01-14T07:00:00",
                    "2023-01-14T08:00:00",
                    "2023-01-14T09:00:00",
                    "2023-01-14T10:00:00",
                    "2023-01-14T11:00:00",
                    "2023-01-14T12:00:00",
                    "2023-01-14T13:00:00",
                    "2023-01-14T14:00:00",
                    "2023-01-14T15:00:00",
                    "2023-01-14T16:00:00",
                    "2023-01-14T17:00:00",
                    "2023-01-14T18:00:00",
                    "2023-01-14T19:00:00",
                    "2023-01-14T20:00:00",
                    "2023-01-14T21:00:00",
                    "2023-01-14T22:00:00",
                    "2023-01-14T23:00:00",
                    "2023-01-15T00:00:00",
                    "2023-01-15T01:00:00",
                    "2023-01-15T02:00:00",
                    "2023-01-15T03:00:00",
                    "2023-01-15T04:00:00",
                    "2023-01-15T05:00:00",
                    "2023-01-15T06:00:00",
                    "2023-01-15T07:00:00",
                    "2023-01-15T08:00:00",
                    "2023-01-15T09:00:00",
                    "2023-01-15T10:00:00",
                    "2023-01-15T11:00:00",
                    "2023-01-15T12:00:00",
                    "2023-01-15T13:00:00",
                    "2023-01-15T14:00:00",
                    "2023-01-15T15:00:00",
                    "2023-01-15T16:00:00",
                    "2023-01-15T17:00:00",
                    "2023-01-15T18:00:00",
                    "2023-01-15T19:00:00",
                    "2023-01-15T20:00:00",
                    "2023-01-15T21:00:00",
                    "2023-01-15T22:00:00",
                    "2023-01-15T23:00:00",
                    "2023-01-16T00:00:00",
                    "2023-01-16T01:00:00",
                    "2023-01-16T02:00:00",
                    "2023-01-16T03:00:00",
                    "2023-01-16T04:00:00",
                    "2023-01-16T05:00:00",
                    "2023-01-16T06:00:00",
                    "2023-01-16T07:00:00",
                    "2023-01-16T08:00:00",
                    "2023-01-16T09:00:00",
                    "2023-01-16T10:00:00",
                    "2023-01-16T11:00:00",
                    "2023-01-16T12:00:00",
                    "2023-01-16T13:00:00",
                    "2023-01-16T14:00:00",
                    "2023-01-16T15:00:00",
                    "2023-01-16T16:00:00",
                    "2023-01-16T17:00:00",
                    "2023-01-16T18:00:00",
                    "2023-01-16T19:00:00",
                    "2023-01-16T20:00:00",
                    "2023-01-16T21:00:00",
                    "2023-01-16T22:00:00",
                    "2023-01-16T23:00:00",
                    "2023-01-17T00:00:00",
                    "2023-01-17T01:00:00",
                    "2023-01-17T02:00:00",
                    "2023-01-17T03:00:00",
                    "2023-01-17T04:00:00",
                    "2023-01-17T05:00:00",
                    "2023-01-17T06:00:00",
                    "2023-01-17T07:00:00",
                    "2023-01-17T08:00:00",
                    "2023-01-17T09:00:00",
                    "2023-01-17T10:00:00",
                    "2023-01-17T11:00:00",
                    "2023-01-17T12:00:00",
                    "2023-01-17T13:00:00",
                    "2023-01-17T14:00:00",
                    "2023-01-17T15:00:00",
                    "2023-01-17T16:00:00",
                    "2023-01-17T17:00:00",
                    "2023-01-17T18:00:00",
                    "2023-01-17T19:00:00",
                    "2023-01-17T20:00:00",
                    "2023-01-17T21:00:00",
                    "2023-01-17T22:00:00",
                    "2023-01-17T23:00:00",
                    "2023-01-18T00:00:00",
                    "2023-01-18T01:00:00",
                    "2023-01-18T02:00:00",
                    "2023-01-18T03:00:00",
                    "2023-01-18T04:00:00",
                    "2023-01-18T05:00:00",
                    "2023-01-18T06:00:00",
                    "2023-01-18T07:00:00",
                    "2023-01-18T08:00:00",
                    "2023-01-18T09:00:00",
                    "2023-01-18T10:00:00",
                    "2023-01-18T11:00:00",
                    "2023-01-18T12:00:00",
                    "2023-01-18T13:00:00",
                    "2023-01-18T14:00:00",
                    "2023-01-18T15:00:00",
                    "2023-01-18T16:00:00",
                    "2023-01-18T17:00:00",
                    "2023-01-18T18:00:00"
                  ],
                  "xaxis": "x2",
                  "y": [
                    0,
                    0,
                    0,
                    0,
                    0,
                    0,
                    0,
                    0,
                    0,
                    0,
                    0,
                    0,
                    0,
                    0,
                    0,
                    0,
                    0,
                    0,
                    0,
                    0,
                    0,
                    0,
                    0,
                    0,
                    0,
                    0,
                    0,
                    0,
                    0,
                    0,
                    0,
                    0,
                    0,
                    0,
                    0,
                    0,
                    0,
                    1.39,
                    1.79,
                    1.92,
                    0,
                    0,
                    0,
                    0,
                    0,
                    0,
                    0,
                    0,
                    0,
                    0,
                    0,
                    0,
                    0,
                    0,
                    0,
                    0,
                    0,
                    0,
                    0,
                    0,
                    0,
                    0,
                    0,
                    0,
                    0,
                    0,
                    0,
                    0,
                    0,
                    0,
                    0,
                    0,
                    0,
                    0,
                    0,
                    0,
                    0,
                    0,
                    0,
                    0,
                    0,
                    0,
                    0,
                    7.52,
                    29.66,
                    56.58,
                    72.48,
                    78.02,
                    83.35,
                    65.07,
                    37.89,
                    10.02,
                    0,
                    0,
                    0,
                    0,
                    0,
                    0,
                    0,
                    0,
                    0,
                    0,
                    0,
                    0,
                    0,
                    0,
                    0,
                    0,
                    0,
                    0,
                    0,
                    0,
                    0,
                    0,
                    0,
                    0.22,
                    0,
                    0
                  ],
                  "yaxis": "y2"
                },
                {
                  "name": "Estimated Demand",
                  "type": "scatter",
                  "x": [
                    "2023-01-13T21:00:00",
                    "2023-01-13T22:00:00",
                    "2023-01-13T23:00:00",
                    "2023-01-14T00:00:00",
                    "2023-01-14T01:00:00",
                    "2023-01-14T02:00:00",
                    "2023-01-14T03:00:00",
                    "2023-01-14T04:00:00",
                    "2023-01-14T05:00:00",
                    "2023-01-14T06:00:00",
                    "2023-01-14T07:00:00",
                    "2023-01-14T08:00:00",
                    "2023-01-14T09:00:00",
                    "2023-01-14T10:00:00",
                    "2023-01-14T11:00:00",
                    "2023-01-14T12:00:00",
                    "2023-01-14T13:00:00",
                    "2023-01-14T14:00:00",
                    "2023-01-14T15:00:00",
                    "2023-01-14T16:00:00",
                    "2023-01-14T17:00:00",
                    "2023-01-14T18:00:00",
                    "2023-01-14T19:00:00",
                    "2023-01-14T20:00:00",
                    "2023-01-14T21:00:00",
                    "2023-01-14T22:00:00",
                    "2023-01-14T23:00:00",
                    "2023-01-15T00:00:00",
                    "2023-01-15T01:00:00",
                    "2023-01-15T02:00:00",
                    "2023-01-15T03:00:00",
                    "2023-01-15T04:00:00",
                    "2023-01-15T05:00:00",
                    "2023-01-15T06:00:00",
                    "2023-01-15T07:00:00",
                    "2023-01-15T08:00:00",
                    "2023-01-15T09:00:00",
                    "2023-01-15T10:00:00",
                    "2023-01-15T11:00:00",
                    "2023-01-15T12:00:00",
                    "2023-01-15T13:00:00",
                    "2023-01-15T14:00:00",
                    "2023-01-15T15:00:00",
                    "2023-01-15T16:00:00",
                    "2023-01-15T17:00:00",
                    "2023-01-15T18:00:00",
                    "2023-01-15T19:00:00",
                    "2023-01-15T20:00:00",
                    "2023-01-15T21:00:00",
                    "2023-01-15T22:00:00",
                    "2023-01-15T23:00:00",
                    "2023-01-16T00:00:00",
                    "2023-01-16T01:00:00",
                    "2023-01-16T02:00:00",
                    "2023-01-16T03:00:00",
                    "2023-01-16T04:00:00",
                    "2023-01-16T05:00:00",
                    "2023-01-16T06:00:00",
                    "2023-01-16T07:00:00",
                    "2023-01-16T08:00:00",
                    "2023-01-16T09:00:00",
                    "2023-01-16T10:00:00",
                    "2023-01-16T11:00:00",
                    "2023-01-16T12:00:00",
                    "2023-01-16T13:00:00",
                    "2023-01-16T14:00:00",
                    "2023-01-16T15:00:00",
                    "2023-01-16T16:00:00",
                    "2023-01-16T17:00:00",
                    "2023-01-16T18:00:00",
                    "2023-01-16T19:00:00",
                    "2023-01-16T20:00:00",
                    "2023-01-16T21:00:00",
                    "2023-01-16T22:00:00",
                    "2023-01-16T23:00:00",
                    "2023-01-17T00:00:00",
                    "2023-01-17T01:00:00",
                    "2023-01-17T02:00:00",
                    "2023-01-17T03:00:00",
                    "2023-01-17T04:00:00",
                    "2023-01-17T05:00:00",
                    "2023-01-17T06:00:00",
                    "2023-01-17T07:00:00",
                    "2023-01-17T08:00:00",
                    "2023-01-17T09:00:00",
                    "2023-01-17T10:00:00",
                    "2023-01-17T11:00:00",
                    "2023-01-17T12:00:00",
                    "2023-01-17T13:00:00",
                    "2023-01-17T14:00:00",
                    "2023-01-17T15:00:00",
                    "2023-01-17T16:00:00",
                    "2023-01-17T17:00:00",
                    "2023-01-17T18:00:00",
                    "2023-01-17T19:00:00",
                    "2023-01-17T20:00:00",
                    "2023-01-17T21:00:00",
                    "2023-01-17T22:00:00",
                    "2023-01-17T23:00:00",
                    "2023-01-18T00:00:00",
                    "2023-01-18T01:00:00",
                    "2023-01-18T02:00:00",
                    "2023-01-18T03:00:00",
                    "2023-01-18T04:00:00",
                    "2023-01-18T05:00:00",
                    "2023-01-18T06:00:00",
                    "2023-01-18T07:00:00",
                    "2023-01-18T08:00:00",
                    "2023-01-18T09:00:00",
                    "2023-01-18T10:00:00",
                    "2023-01-18T11:00:00",
                    "2023-01-18T12:00:00",
                    "2023-01-18T13:00:00",
                    "2023-01-18T14:00:00",
                    "2023-01-18T15:00:00",
                    "2023-01-18T16:00:00",
                    "2023-01-18T17:00:00",
                    "2023-01-18T18:00:00"
                  ],
                  "xaxis": "x2",
                  "y": [
                    215.93,
                    153.61,
                    109.8,
                    125.65,
                    110.15,
                    100.04,
                    97.76,
                    95.95,
                    101.07,
                    99.61,
                    130.15,
                    128.49,
                    191.51,
                    216.64,
                    245.95,
                    276.64,
                    261.43,
                    257.83,
                    253.63,
                    254.71,
                    256.08,
                    267.52,
                    249.15,
                    209.07,
                    193.31,
                    134.72,
                    92.56,
                    140.59,
                    96.61,
                    87.6,
                    85.58,
                    84.43,
                    90.27,
                    88.94,
                    120.91,
                    118.28,
                    155.89,
                    134.96,
                    173.31,
                    204.94,
                    219.4,
                    221.58,
                    218.29,
                    213.94,
                    213.66,
                    198.04,
                    205.01,
                    190.61,
                    178.79,
                    160.51,
                    109.99,
                    131.42,
                    110.88,
                    98.53,
                    94.62,
                    90.79,
                    94.08,
                    91.98,
                    123.27,
                    119.93,
                    157.63,
                    137.61,
                    176.59,
                    207.77,
                    223.14,
                    222.1,
                    218.25,
                    212.46,
                    210.21,
                    192.69,
                    200.62,
                    189.03,
                    177.66,
                    153.41,
                    100.06,
                    125.07,
                    103.4,
                    91.78,
                    89.62,
                    88.76,
                    111.91,
                    109.81,
                    153.06,
                    141.75,
                    215.28,
                    248.53,
                    245.79,
                    279.54,
                    266.05,
                    264.64,
                    261.65,
                    256.78,
                    253.8,
                    261.68,
                    255.8,
                    230.59,
                    199.76,
                    137.85,
                    90.61,
                    137.61,
                    98.11,
                    89.22,
                    88.52,
                    87.93,
                    95.05,
                    94.52,
                    138.24,
                    137.73,
                    218.58,
                    251.91,
                    248.28,
                    283.64,
                    274.83,
                    270.79,
                    265.36,
                    257.42,
                    254.78,
                    262.21
                  ],
                  "yaxis": "y2"
                }
              ],
              "layout": {
                "annotations": [
                  {
                    "font": {
                      "size": 16
                    },
                    "showarrow": false,
                    "text": "Cloudiness",
                    "x": 0.5,
                    "xanchor": "center",
                    "xref": "paper",
                    "y": 1,
                    "yanchor": "bottom",
                    "yref": "paper"
                  },
                  {
                    "font": {
                      "size": 16
                    },
                    "showarrow": false,
                    "text": "Power Generation, Battery Level, and Demand",
                    "x": 0.5,
                    "xanchor": "center",
                    "xref": "paper",
                    "y": 0.375,
                    "yanchor": "bottom",
                    "yref": "paper"
                  }
                ],
                "height": 800,
                "showlegend": true,
                "template": {
                  "data": {
                    "bar": [
                      {
                        "error_x": {
                          "color": "#2a3f5f"
                        },
                        "error_y": {
                          "color": "#2a3f5f"
                        },
                        "marker": {
                          "line": {
                            "color": "#E5ECF6",
                            "width": 0.5
                          },
                          "pattern": {
                            "fillmode": "overlay",
                            "size": 10,
                            "solidity": 0.2
                          }
                        },
                        "type": "bar"
                      }
                    ],
                    "barpolar": [
                      {
                        "marker": {
                          "line": {
                            "color": "#E5ECF6",
                            "width": 0.5
                          },
                          "pattern": {
                            "fillmode": "overlay",
                            "size": 10,
                            "solidity": 0.2
                          }
                        },
                        "type": "barpolar"
                      }
                    ],
                    "carpet": [
                      {
                        "aaxis": {
                          "endlinecolor": "#2a3f5f",
                          "gridcolor": "white",
                          "linecolor": "white",
                          "minorgridcolor": "white",
                          "startlinecolor": "#2a3f5f"
                        },
                        "baxis": {
                          "endlinecolor": "#2a3f5f",
                          "gridcolor": "white",
                          "linecolor": "white",
                          "minorgridcolor": "white",
                          "startlinecolor": "#2a3f5f"
                        },
                        "type": "carpet"
                      }
                    ],
                    "choropleth": [
                      {
                        "colorbar": {
                          "outlinewidth": 0,
                          "ticks": ""
                        },
                        "type": "choropleth"
                      }
                    ],
                    "contour": [
                      {
                        "colorbar": {
                          "outlinewidth": 0,
                          "ticks": ""
                        },
                        "colorscale": [
                          [
                            0,
                            "#0d0887"
                          ],
                          [
                            0.1111111111111111,
                            "#46039f"
                          ],
                          [
                            0.2222222222222222,
                            "#7201a8"
                          ],
                          [
                            0.3333333333333333,
                            "#9c179e"
                          ],
                          [
                            0.4444444444444444,
                            "#bd3786"
                          ],
                          [
                            0.5555555555555556,
                            "#d8576b"
                          ],
                          [
                            0.6666666666666666,
                            "#ed7953"
                          ],
                          [
                            0.7777777777777778,
                            "#fb9f3a"
                          ],
                          [
                            0.8888888888888888,
                            "#fdca26"
                          ],
                          [
                            1,
                            "#f0f921"
                          ]
                        ],
                        "type": "contour"
                      }
                    ],
                    "contourcarpet": [
                      {
                        "colorbar": {
                          "outlinewidth": 0,
                          "ticks": ""
                        },
                        "type": "contourcarpet"
                      }
                    ],
                    "heatmap": [
                      {
                        "colorbar": {
                          "outlinewidth": 0,
                          "ticks": ""
                        },
                        "colorscale": [
                          [
                            0,
                            "#0d0887"
                          ],
                          [
                            0.1111111111111111,
                            "#46039f"
                          ],
                          [
                            0.2222222222222222,
                            "#7201a8"
                          ],
                          [
                            0.3333333333333333,
                            "#9c179e"
                          ],
                          [
                            0.4444444444444444,
                            "#bd3786"
                          ],
                          [
                            0.5555555555555556,
                            "#d8576b"
                          ],
                          [
                            0.6666666666666666,
                            "#ed7953"
                          ],
                          [
                            0.7777777777777778,
                            "#fb9f3a"
                          ],
                          [
                            0.8888888888888888,
                            "#fdca26"
                          ],
                          [
                            1,
                            "#f0f921"
                          ]
                        ],
                        "type": "heatmap"
                      }
                    ],
                    "heatmapgl": [
                      {
                        "colorbar": {
                          "outlinewidth": 0,
                          "ticks": ""
                        },
                        "colorscale": [
                          [
                            0,
                            "#0d0887"
                          ],
                          [
                            0.1111111111111111,
                            "#46039f"
                          ],
                          [
                            0.2222222222222222,
                            "#7201a8"
                          ],
                          [
                            0.3333333333333333,
                            "#9c179e"
                          ],
                          [
                            0.4444444444444444,
                            "#bd3786"
                          ],
                          [
                            0.5555555555555556,
                            "#d8576b"
                          ],
                          [
                            0.6666666666666666,
                            "#ed7953"
                          ],
                          [
                            0.7777777777777778,
                            "#fb9f3a"
                          ],
                          [
                            0.8888888888888888,
                            "#fdca26"
                          ],
                          [
                            1,
                            "#f0f921"
                          ]
                        ],
                        "type": "heatmapgl"
                      }
                    ],
                    "histogram": [
                      {
                        "marker": {
                          "pattern": {
                            "fillmode": "overlay",
                            "size": 10,
                            "solidity": 0.2
                          }
                        },
                        "type": "histogram"
                      }
                    ],
                    "histogram2d": [
                      {
                        "colorbar": {
                          "outlinewidth": 0,
                          "ticks": ""
                        },
                        "colorscale": [
                          [
                            0,
                            "#0d0887"
                          ],
                          [
                            0.1111111111111111,
                            "#46039f"
                          ],
                          [
                            0.2222222222222222,
                            "#7201a8"
                          ],
                          [
                            0.3333333333333333,
                            "#9c179e"
                          ],
                          [
                            0.4444444444444444,
                            "#bd3786"
                          ],
                          [
                            0.5555555555555556,
                            "#d8576b"
                          ],
                          [
                            0.6666666666666666,
                            "#ed7953"
                          ],
                          [
                            0.7777777777777778,
                            "#fb9f3a"
                          ],
                          [
                            0.8888888888888888,
                            "#fdca26"
                          ],
                          [
                            1,
                            "#f0f921"
                          ]
                        ],
                        "type": "histogram2d"
                      }
                    ],
                    "histogram2dcontour": [
                      {
                        "colorbar": {
                          "outlinewidth": 0,
                          "ticks": ""
                        },
                        "colorscale": [
                          [
                            0,
                            "#0d0887"
                          ],
                          [
                            0.1111111111111111,
                            "#46039f"
                          ],
                          [
                            0.2222222222222222,
                            "#7201a8"
                          ],
                          [
                            0.3333333333333333,
                            "#9c179e"
                          ],
                          [
                            0.4444444444444444,
                            "#bd3786"
                          ],
                          [
                            0.5555555555555556,
                            "#d8576b"
                          ],
                          [
                            0.6666666666666666,
                            "#ed7953"
                          ],
                          [
                            0.7777777777777778,
                            "#fb9f3a"
                          ],
                          [
                            0.8888888888888888,
                            "#fdca26"
                          ],
                          [
                            1,
                            "#f0f921"
                          ]
                        ],
                        "type": "histogram2dcontour"
                      }
                    ],
                    "mesh3d": [
                      {
                        "colorbar": {
                          "outlinewidth": 0,
                          "ticks": ""
                        },
                        "type": "mesh3d"
                      }
                    ],
                    "parcoords": [
                      {
                        "line": {
                          "colorbar": {
                            "outlinewidth": 0,
                            "ticks": ""
                          }
                        },
                        "type": "parcoords"
                      }
                    ],
                    "pie": [
                      {
                        "automargin": true,
                        "type": "pie"
                      }
                    ],
                    "scatter": [
                      {
                        "fillpattern": {
                          "fillmode": "overlay",
                          "size": 10,
                          "solidity": 0.2
                        },
                        "type": "scatter"
                      }
                    ],
                    "scatter3d": [
                      {
                        "line": {
                          "colorbar": {
                            "outlinewidth": 0,
                            "ticks": ""
                          }
                        },
                        "marker": {
                          "colorbar": {
                            "outlinewidth": 0,
                            "ticks": ""
                          }
                        },
                        "type": "scatter3d"
                      }
                    ],
                    "scattercarpet": [
                      {
                        "marker": {
                          "colorbar": {
                            "outlinewidth": 0,
                            "ticks": ""
                          }
                        },
                        "type": "scattercarpet"
                      }
                    ],
                    "scattergeo": [
                      {
                        "marker": {
                          "colorbar": {
                            "outlinewidth": 0,
                            "ticks": ""
                          }
                        },
                        "type": "scattergeo"
                      }
                    ],
                    "scattergl": [
                      {
                        "marker": {
                          "colorbar": {
                            "outlinewidth": 0,
                            "ticks": ""
                          }
                        },
                        "type": "scattergl"
                      }
                    ],
                    "scattermapbox": [
                      {
                        "marker": {
                          "colorbar": {
                            "outlinewidth": 0,
                            "ticks": ""
                          }
                        },
                        "type": "scattermapbox"
                      }
                    ],
                    "scatterpolar": [
                      {
                        "marker": {
                          "colorbar": {
                            "outlinewidth": 0,
                            "ticks": ""
                          }
                        },
                        "type": "scatterpolar"
                      }
                    ],
                    "scatterpolargl": [
                      {
                        "marker": {
                          "colorbar": {
                            "outlinewidth": 0,
                            "ticks": ""
                          }
                        },
                        "type": "scatterpolargl"
                      }
                    ],
                    "scatterternary": [
                      {
                        "marker": {
                          "colorbar": {
                            "outlinewidth": 0,
                            "ticks": ""
                          }
                        },
                        "type": "scatterternary"
                      }
                    ],
                    "surface": [
                      {
                        "colorbar": {
                          "outlinewidth": 0,
                          "ticks": ""
                        },
                        "colorscale": [
                          [
                            0,
                            "#0d0887"
                          ],
                          [
                            0.1111111111111111,
                            "#46039f"
                          ],
                          [
                            0.2222222222222222,
                            "#7201a8"
                          ],
                          [
                            0.3333333333333333,
                            "#9c179e"
                          ],
                          [
                            0.4444444444444444,
                            "#bd3786"
                          ],
                          [
                            0.5555555555555556,
                            "#d8576b"
                          ],
                          [
                            0.6666666666666666,
                            "#ed7953"
                          ],
                          [
                            0.7777777777777778,
                            "#fb9f3a"
                          ],
                          [
                            0.8888888888888888,
                            "#fdca26"
                          ],
                          [
                            1,
                            "#f0f921"
                          ]
                        ],
                        "type": "surface"
                      }
                    ],
                    "table": [
                      {
                        "cells": {
                          "fill": {
                            "color": "#EBF0F8"
                          },
                          "line": {
                            "color": "white"
                          }
                        },
                        "header": {
                          "fill": {
                            "color": "#C8D4E3"
                          },
                          "line": {
                            "color": "white"
                          }
                        },
                        "type": "table"
                      }
                    ]
                  },
                  "layout": {
                    "annotationdefaults": {
                      "arrowcolor": "#2a3f5f",
                      "arrowhead": 0,
                      "arrowwidth": 1
                    },
                    "autotypenumbers": "strict",
                    "coloraxis": {
                      "colorbar": {
                        "outlinewidth": 0,
                        "ticks": ""
                      }
                    },
                    "colorscale": {
                      "diverging": [
                        [
                          0,
                          "#8e0152"
                        ],
                        [
                          0.1,
                          "#c51b7d"
                        ],
                        [
                          0.2,
                          "#de77ae"
                        ],
                        [
                          0.3,
                          "#f1b6da"
                        ],
                        [
                          0.4,
                          "#fde0ef"
                        ],
                        [
                          0.5,
                          "#f7f7f7"
                        ],
                        [
                          0.6,
                          "#e6f5d0"
                        ],
                        [
                          0.7,
                          "#b8e186"
                        ],
                        [
                          0.8,
                          "#7fbc41"
                        ],
                        [
                          0.9,
                          "#4d9221"
                        ],
                        [
                          1,
                          "#276419"
                        ]
                      ],
                      "sequential": [
                        [
                          0,
                          "#0d0887"
                        ],
                        [
                          0.1111111111111111,
                          "#46039f"
                        ],
                        [
                          0.2222222222222222,
                          "#7201a8"
                        ],
                        [
                          0.3333333333333333,
                          "#9c179e"
                        ],
                        [
                          0.4444444444444444,
                          "#bd3786"
                        ],
                        [
                          0.5555555555555556,
                          "#d8576b"
                        ],
                        [
                          0.6666666666666666,
                          "#ed7953"
                        ],
                        [
                          0.7777777777777778,
                          "#fb9f3a"
                        ],
                        [
                          0.8888888888888888,
                          "#fdca26"
                        ],
                        [
                          1,
                          "#f0f921"
                        ]
                      ],
                      "sequentialminus": [
                        [
                          0,
                          "#0d0887"
                        ],
                        [
                          0.1111111111111111,
                          "#46039f"
                        ],
                        [
                          0.2222222222222222,
                          "#7201a8"
                        ],
                        [
                          0.3333333333333333,
                          "#9c179e"
                        ],
                        [
                          0.4444444444444444,
                          "#bd3786"
                        ],
                        [
                          0.5555555555555556,
                          "#d8576b"
                        ],
                        [
                          0.6666666666666666,
                          "#ed7953"
                        ],
                        [
                          0.7777777777777778,
                          "#fb9f3a"
                        ],
                        [
                          0.8888888888888888,
                          "#fdca26"
                        ],
                        [
                          1,
                          "#f0f921"
                        ]
                      ]
                    },
                    "colorway": [
                      "#636efa",
                      "#EF553B",
                      "#00cc96",
                      "#ab63fa",
                      "#FFA15A",
                      "#19d3f3",
                      "#FF6692",
                      "#B6E880",
                      "#FF97FF",
                      "#FECB52"
                    ],
                    "font": {
                      "color": "#2a3f5f"
                    },
                    "geo": {
                      "bgcolor": "white",
                      "lakecolor": "white",
                      "landcolor": "#E5ECF6",
                      "showlakes": true,
                      "showland": true,
                      "subunitcolor": "white"
                    },
                    "hoverlabel": {
                      "align": "left"
                    },
                    "hovermode": "closest",
                    "mapbox": {
                      "style": "light"
                    },
                    "paper_bgcolor": "white",
                    "plot_bgcolor": "#E5ECF6",
                    "polar": {
                      "angularaxis": {
                        "gridcolor": "white",
                        "linecolor": "white",
                        "ticks": ""
                      },
                      "bgcolor": "#E5ECF6",
                      "radialaxis": {
                        "gridcolor": "white",
                        "linecolor": "white",
                        "ticks": ""
                      }
                    },
                    "scene": {
                      "xaxis": {
                        "backgroundcolor": "#E5ECF6",
                        "gridcolor": "white",
                        "gridwidth": 2,
                        "linecolor": "white",
                        "showbackground": true,
                        "ticks": "",
                        "zerolinecolor": "white"
                      },
                      "yaxis": {
                        "backgroundcolor": "#E5ECF6",
                        "gridcolor": "white",
                        "gridwidth": 2,
                        "linecolor": "white",
                        "showbackground": true,
                        "ticks": "",
                        "zerolinecolor": "white"
                      },
                      "zaxis": {
                        "backgroundcolor": "#E5ECF6",
                        "gridcolor": "white",
                        "gridwidth": 2,
                        "linecolor": "white",
                        "showbackground": true,
                        "ticks": "",
                        "zerolinecolor": "white"
                      }
                    },
                    "shapedefaults": {
                      "line": {
                        "color": "#2a3f5f"
                      }
                    },
                    "ternary": {
                      "aaxis": {
                        "gridcolor": "white",
                        "linecolor": "white",
                        "ticks": ""
                      },
                      "baxis": {
                        "gridcolor": "white",
                        "linecolor": "white",
                        "ticks": ""
                      },
                      "bgcolor": "#E5ECF6",
                      "caxis": {
                        "gridcolor": "white",
                        "linecolor": "white",
                        "ticks": ""
                      }
                    },
                    "title": {
                      "x": 0.05
                    },
                    "xaxis": {
                      "automargin": true,
                      "gridcolor": "white",
                      "linecolor": "white",
                      "ticks": "",
                      "title": {
                        "standoff": 15
                      },
                      "zerolinecolor": "white",
                      "zerolinewidth": 2
                    },
                    "yaxis": {
                      "automargin": true,
                      "gridcolor": "white",
                      "linecolor": "white",
                      "ticks": "",
                      "title": {
                        "standoff": 15
                      },
                      "zerolinecolor": "white",
                      "zerolinewidth": 2
                    }
                  }
                },
                "width": 800,
                "xaxis": {
                  "anchor": "y",
                  "domain": [
                    0,
                    1
                  ]
                },
                "xaxis2": {
                  "anchor": "y2",
                  "domain": [
                    0,
                    1
                  ]
                },
                "yaxis": {
                  "anchor": "x",
                  "domain": [
                    0.625,
                    1
                  ],
                  "title": {
                    "text": "%"
                  }
                },
                "yaxis2": {
                  "anchor": "x2",
                  "domain": [
                    0,
                    0.375
                  ],
                  "title": {
                    "text": "kW"
                  }
                }
              }
            }
          },
          "metadata": {},
          "output_type": "display_data"
        }
      ],
      "source": [
        "from plotly.subplots import make_subplots\n",
        "import plotly.graph_objects as go\n",
        "\n",
        "fig = make_subplots(\n",
        "    rows=2, cols=1,\n",
        "    subplot_titles=(\"Cloudiness\", \"Power Generation, Battery Level, and Demand\"))\n",
        "\n",
        "fig.add_trace(go.Scatter(x=output_df['dates'], y=output_df['cloudiness percent'], name='Cloudiness'),\n",
        "              row=1, col=1)\n",
        "\n",
        "fig.add_trace(go.Scatter(x=output_df['dates'], y=output_df['battery level'], name='Battery Level'), \n",
        "              row=2, col=1)\n",
        "\n",
        "fig.add_trace(go.Scatter(x=output_df['dates'], y=output_df['solar power generated'], name='Solar Power Generated'),\n",
        "              row=2, col=1)\n",
        "\n",
        "fig.add_trace(go.Scatter(x=output_df['dates'], y=output_df['estimated demand'], name='Estimated Demand'),\n",
        "              row=2, col=1)\n",
        "\n",
        "\n",
        "fig.update_layout(height=800, width=800,showlegend=True\n",
        "                  )\n",
        "fig['layout']['yaxis']['title']='%'\n",
        "fig['layout']['yaxis2']['title']='kW'\n",
        "fig.show()"
      ]
    },
    {
      "cell_type": "code",
      "execution_count": 19,
      "metadata": {
        "id": "WtxL2_crZkTj"
      },
      "outputs": [],
      "source": [
        "fig.write_html(\"demo_outputs_for_Nexus_forecast_system.html\")\n"
      ]
    },
    {
      "cell_type": "markdown",
      "metadata": {
        "id": "6z0HczTyZY8b"
      },
      "source": [
        "### STOP HERE FOR CODE, START STREAMLIT CONVERSION"
      ]
    },
    {
      "cell_type": "code",
      "execution_count": 1,
      "metadata": {
        "colab": {
          "base_uri": "https://localhost:8080/"
        },
        "id": "74gds8hJq2ab",
        "outputId": "0f287087-057f-4639-bbee-5dac96543c94"
      },
      "outputs": [
        {
          "name": "stdout",
          "output_type": "stream",
          "text": [
            "Looking in indexes: https://pypi.org/simple, https://us-python.pkg.dev/colab-wheels/public/simple/\n",
            "Collecting streamlit==1.15.2\n",
            "  Downloading streamlit-1.15.2-py2.py3-none-any.whl (9.2 MB)\n",
            "\u001b[K     |████████████████████████████████| 9.2 MB 4.9 MB/s \n",
            "\u001b[?25hRequirement already satisfied: tzlocal>=1.1 in /usr/local/lib/python3.8/dist-packages (from streamlit==1.15.2) (1.5.1)\n",
            "Collecting watchdog\n",
            "  Downloading watchdog-2.2.0-py3-none-manylinux2014_x86_64.whl (78 kB)\n",
            "\u001b[K     |████████████████████████████████| 78 kB 7.4 MB/s \n",
            "\u001b[?25hRequirement already satisfied: click>=7.0 in /usr/local/lib/python3.8/dist-packages (from streamlit==1.15.2) (7.1.2)\n",
            "Requirement already satisfied: typing-extensions>=3.10.0.0 in /usr/local/lib/python3.8/dist-packages (from streamlit==1.15.2) (4.4.0)\n",
            "Requirement already satisfied: tornado>=5.0 in /usr/local/lib/python3.8/dist-packages (from streamlit==1.15.2) (6.0.4)\n",
            "Requirement already satisfied: requests>=2.4 in /usr/local/lib/python3.8/dist-packages (from streamlit==1.15.2) (2.23.0)\n",
            "Collecting pydeck>=0.1.dev5\n",
            "  Downloading pydeck-0.8.0-py2.py3-none-any.whl (4.7 MB)\n",
            "\u001b[K     |████████████████████████████████| 4.7 MB 56.6 MB/s \n",
            "\u001b[?25hRequirement already satisfied: numpy in /usr/local/lib/python3.8/dist-packages (from streamlit==1.15.2) (1.21.6)\n",
            "Requirement already satisfied: python-dateutil in /usr/local/lib/python3.8/dist-packages (from streamlit==1.15.2) (2.8.2)\n",
            "Requirement already satisfied: pandas>=0.21.0 in /usr/local/lib/python3.8/dist-packages (from streamlit==1.15.2) (1.3.5)\n",
            "Requirement already satisfied: cachetools>=4.0 in /usr/local/lib/python3.8/dist-packages (from streamlit==1.15.2) (5.2.0)\n",
            "Collecting rich>=10.11.0\n",
            "  Downloading rich-12.6.0-py3-none-any.whl (237 kB)\n",
            "\u001b[K     |████████████████████████████████| 237 kB 71.1 MB/s \n",
            "\u001b[?25hRequirement already satisfied: toml in /usr/local/lib/python3.8/dist-packages (from streamlit==1.15.2) (0.10.2)\n",
            "Collecting blinker>=1.0.0\n",
            "  Downloading blinker-1.5-py2.py3-none-any.whl (12 kB)\n",
            "Requirement already satisfied: importlib-metadata>=1.4 in /usr/local/lib/python3.8/dist-packages (from streamlit==1.15.2) (5.1.0)\n",
            "Requirement already satisfied: altair>=3.2.0 in /usr/local/lib/python3.8/dist-packages (from streamlit==1.15.2) (4.2.0)\n",
            "Collecting gitpython!=3.1.19\n",
            "  Downloading GitPython-3.1.29-py3-none-any.whl (182 kB)\n",
            "\u001b[K     |████████████████████████████████| 182 kB 76.5 MB/s \n",
            "\u001b[?25hRequirement already satisfied: pillow>=6.2.0 in /usr/local/lib/python3.8/dist-packages (from streamlit==1.15.2) (7.1.2)\n",
            "Collecting pympler>=0.9\n",
            "  Downloading Pympler-1.0.1-py3-none-any.whl (164 kB)\n",
            "\u001b[K     |████████████████████████████████| 164 kB 74.0 MB/s \n",
            "\u001b[?25hRequirement already satisfied: protobuf<4,>=3.12 in /usr/local/lib/python3.8/dist-packages (from streamlit==1.15.2) (3.19.6)\n",
            "Collecting validators>=0.2\n",
            "  Downloading validators-0.20.0.tar.gz (30 kB)\n",
            "Requirement already satisfied: packaging>=14.1 in /usr/local/lib/python3.8/dist-packages (from streamlit==1.15.2) (21.3)\n",
            "Collecting semver\n",
            "  Downloading semver-2.13.0-py2.py3-none-any.whl (12 kB)\n",
            "Requirement already satisfied: pyarrow>=4.0 in /usr/local/lib/python3.8/dist-packages (from streamlit==1.15.2) (9.0.0)\n",
            "Requirement already satisfied: toolz in /usr/local/lib/python3.8/dist-packages (from altair>=3.2.0->streamlit==1.15.2) (0.12.0)\n",
            "Requirement already satisfied: jsonschema>=3.0 in /usr/local/lib/python3.8/dist-packages (from altair>=3.2.0->streamlit==1.15.2) (4.3.3)\n",
            "Requirement already satisfied: entrypoints in /usr/local/lib/python3.8/dist-packages (from altair>=3.2.0->streamlit==1.15.2) (0.4)\n",
            "Requirement already satisfied: jinja2 in /usr/local/lib/python3.8/dist-packages (from altair>=3.2.0->streamlit==1.15.2) (2.11.3)\n",
            "Collecting gitdb<5,>=4.0.1\n",
            "  Downloading gitdb-4.0.10-py3-none-any.whl (62 kB)\n",
            "\u001b[K     |████████████████████████████████| 62 kB 1.4 MB/s \n",
            "\u001b[?25hCollecting smmap<6,>=3.0.1\n",
            "  Downloading smmap-5.0.0-py3-none-any.whl (24 kB)\n",
            "Requirement already satisfied: zipp>=0.5 in /usr/local/lib/python3.8/dist-packages (from importlib-metadata>=1.4->streamlit==1.15.2) (3.11.0)\n",
            "Requirement already satisfied: attrs>=17.4.0 in /usr/local/lib/python3.8/dist-packages (from jsonschema>=3.0->altair>=3.2.0->streamlit==1.15.2) (22.1.0)\n",
            "Requirement already satisfied: pyrsistent!=0.17.0,!=0.17.1,!=0.17.2,>=0.14.0 in /usr/local/lib/python3.8/dist-packages (from jsonschema>=3.0->altair>=3.2.0->streamlit==1.15.2) (0.19.2)\n",
            "Requirement already satisfied: importlib-resources>=1.4.0 in /usr/local/lib/python3.8/dist-packages (from jsonschema>=3.0->altair>=3.2.0->streamlit==1.15.2) (5.10.1)\n",
            "Requirement already satisfied: pyparsing!=3.0.5,>=2.0.2 in /usr/local/lib/python3.8/dist-packages (from packaging>=14.1->streamlit==1.15.2) (3.0.9)\n",
            "Requirement already satisfied: pytz>=2017.3 in /usr/local/lib/python3.8/dist-packages (from pandas>=0.21.0->streamlit==1.15.2) (2022.6)\n",
            "Requirement already satisfied: MarkupSafe>=0.23 in /usr/local/lib/python3.8/dist-packages (from jinja2->altair>=3.2.0->streamlit==1.15.2) (2.0.1)\n",
            "Requirement already satisfied: six>=1.5 in /usr/local/lib/python3.8/dist-packages (from python-dateutil->streamlit==1.15.2) (1.15.0)\n",
            "Requirement already satisfied: idna<3,>=2.5 in /usr/local/lib/python3.8/dist-packages (from requests>=2.4->streamlit==1.15.2) (2.10)\n",
            "Requirement already satisfied: urllib3!=1.25.0,!=1.25.1,<1.26,>=1.21.1 in /usr/local/lib/python3.8/dist-packages (from requests>=2.4->streamlit==1.15.2) (1.24.3)\n",
            "Requirement already satisfied: chardet<4,>=3.0.2 in /usr/local/lib/python3.8/dist-packages (from requests>=2.4->streamlit==1.15.2) (3.0.4)\n",
            "Requirement already satisfied: certifi>=2017.4.17 in /usr/local/lib/python3.8/dist-packages (from requests>=2.4->streamlit==1.15.2) (2022.12.7)\n",
            "Requirement already satisfied: pygments<3.0.0,>=2.6.0 in /usr/local/lib/python3.8/dist-packages (from rich>=10.11.0->streamlit==1.15.2) (2.6.1)\n",
            "Collecting commonmark<0.10.0,>=0.9.0\n",
            "  Downloading commonmark-0.9.1-py2.py3-none-any.whl (51 kB)\n",
            "\u001b[K     |████████████████████████████████| 51 kB 3.0 MB/s \n",
            "\u001b[?25hRequirement already satisfied: decorator>=3.4.0 in /usr/local/lib/python3.8/dist-packages (from validators>=0.2->streamlit==1.15.2) (4.4.2)\n",
            "Building wheels for collected packages: validators\n",
            "  Building wheel for validators (setup.py) ... \u001b[?25l\u001b[?25hdone\n",
            "  Created wheel for validators: filename=validators-0.20.0-py3-none-any.whl size=19581 sha256=990bb6a7f9e82ced34ec187c627293fc6b924909c7730498d24e0bb7513a8c95\n",
            "  Stored in directory: /root/.cache/pip/wheels/19/09/72/3eb74d236bb48bd0f3c6c3c83e4e0c5bbfcbcad7c6c3539db8\n",
            "Successfully built validators\n",
            "Installing collected packages: smmap, gitdb, commonmark, watchdog, validators, semver, rich, pympler, pydeck, gitpython, blinker, streamlit\n",
            "Successfully installed blinker-1.5 commonmark-0.9.1 gitdb-4.0.10 gitpython-3.1.29 pydeck-0.8.0 pympler-1.0.1 rich-12.6.0 semver-2.13.0 smmap-5.0.0 streamlit-1.15.2 validators-0.20.0 watchdog-2.2.0\n",
            "Looking in indexes: https://pypi.org/simple, https://us-python.pkg.dev/colab-wheels/public/simple/\n",
            "Collecting pyngrok\n",
            "  Downloading pyngrok-5.2.1.tar.gz (761 kB)\n",
            "\u001b[K     |████████████████████████████████| 761 kB 5.3 MB/s \n",
            "\u001b[?25hRequirement already satisfied: PyYAML in /usr/local/lib/python3.8/dist-packages (from pyngrok) (6.0)\n",
            "Building wheels for collected packages: pyngrok\n",
            "  Building wheel for pyngrok (setup.py) ... \u001b[?25l\u001b[?25hdone\n",
            "  Created wheel for pyngrok: filename=pyngrok-5.2.1-py3-none-any.whl size=19792 sha256=213fa5daeec00249628bd031e59d9fc777d90cc1b05ed1ae10e0cf20a5ccaa69\n",
            "  Stored in directory: /root/.cache/pip/wheels/5d/f2/70/526da675d32f17577ec47ac4c663084efe39d47c826b6c3bb1\n",
            "Successfully built pyngrok\n",
            "Installing collected packages: pyngrok\n",
            "Successfully installed pyngrok-5.2.1\n",
            "Looking in indexes: https://pypi.org/simple, https://us-python.pkg.dev/colab-wheels/public/simple/\n",
            "Collecting solarpy\n",
            "  Downloading solarpy-0.1.3-py3-none-any.whl (10 kB)\n",
            "Requirement already satisfied: numpy in /usr/local/lib/python3.8/dist-packages (from solarpy) (1.21.6)\n",
            "Requirement already satisfied: matplotlib in /usr/local/lib/python3.8/dist-packages (from solarpy) (3.2.2)\n",
            "Requirement already satisfied: kiwisolver>=1.0.1 in /usr/local/lib/python3.8/dist-packages (from matplotlib->solarpy) (1.4.4)\n",
            "Requirement already satisfied: pyparsing!=2.0.4,!=2.1.2,!=2.1.6,>=2.0.1 in /usr/local/lib/python3.8/dist-packages (from matplotlib->solarpy) (3.0.9)\n",
            "Requirement already satisfied: python-dateutil>=2.1 in /usr/local/lib/python3.8/dist-packages (from matplotlib->solarpy) (2.8.2)\n",
            "Requirement already satisfied: cycler>=0.10 in /usr/local/lib/python3.8/dist-packages (from matplotlib->solarpy) (0.11.0)\n",
            "Requirement already satisfied: six>=1.5 in /usr/local/lib/python3.8/dist-packages (from python-dateutil>=2.1->matplotlib->solarpy) (1.15.0)\n",
            "Installing collected packages: solarpy\n",
            "Successfully installed solarpy-0.1.3\n",
            "Looking in indexes: https://pypi.org/simple, https://us-python.pkg.dev/colab-wheels/public/simple/\n",
            "Collecting pgeocode\n",
            "  Downloading pgeocode-0.4.0-py3-none-any.whl (9.7 kB)\n",
            "Requirement already satisfied: requests in /usr/local/lib/python3.8/dist-packages (from pgeocode) (2.23.0)\n",
            "Requirement already satisfied: pandas in /usr/local/lib/python3.8/dist-packages (from pgeocode) (1.3.5)\n",
            "Requirement already satisfied: numpy in /usr/local/lib/python3.8/dist-packages (from pgeocode) (1.21.6)\n",
            "Requirement already satisfied: pytz>=2017.3 in /usr/local/lib/python3.8/dist-packages (from pandas->pgeocode) (2022.6)\n",
            "Requirement already satisfied: python-dateutil>=2.7.3 in /usr/local/lib/python3.8/dist-packages (from pandas->pgeocode) (2.8.2)\n",
            "Requirement already satisfied: six>=1.5 in /usr/local/lib/python3.8/dist-packages (from python-dateutil>=2.7.3->pandas->pgeocode) (1.15.0)\n",
            "Requirement already satisfied: chardet<4,>=3.0.2 in /usr/local/lib/python3.8/dist-packages (from requests->pgeocode) (3.0.4)\n",
            "Requirement already satisfied: certifi>=2017.4.17 in /usr/local/lib/python3.8/dist-packages (from requests->pgeocode) (2022.12.7)\n",
            "Requirement already satisfied: urllib3!=1.25.0,!=1.25.1,<1.26,>=1.21.1 in /usr/local/lib/python3.8/dist-packages (from requests->pgeocode) (1.24.3)\n",
            "Requirement already satisfied: idna<3,>=2.5 in /usr/local/lib/python3.8/dist-packages (from requests->pgeocode) (2.10)\n",
            "Installing collected packages: pgeocode\n",
            "Successfully installed pgeocode-0.4.0\n",
            "Looking in indexes: https://pypi.org/simple, https://us-python.pkg.dev/colab-wheels/public/simple/\n",
            "Collecting calfire-wildfires\n",
            "  Downloading calfire_wildfires-1.1.0-py2.py3-none-any.whl (3.5 kB)\n",
            "Requirement already satisfied: requests in /usr/local/lib/python3.8/dist-packages (from calfire-wildfires) (2.23.0)\n",
            "Requirement already satisfied: click in /usr/local/lib/python3.8/dist-packages (from calfire-wildfires) (7.1.2)\n",
            "Requirement already satisfied: idna<3,>=2.5 in /usr/local/lib/python3.8/dist-packages (from requests->calfire-wildfires) (2.10)\n",
            "Requirement already satisfied: chardet<4,>=3.0.2 in /usr/local/lib/python3.8/dist-packages (from requests->calfire-wildfires) (3.0.4)\n",
            "Requirement already satisfied: urllib3!=1.25.0,!=1.25.1,<1.26,>=1.21.1 in /usr/local/lib/python3.8/dist-packages (from requests->calfire-wildfires) (1.24.3)\n",
            "Requirement already satisfied: certifi>=2017.4.17 in /usr/local/lib/python3.8/dist-packages (from requests->calfire-wildfires) (2022.12.7)\n",
            "Installing collected packages: calfire-wildfires\n",
            "Successfully installed calfire-wildfires-1.1.0\n",
            "Looking in indexes: https://pypi.org/simple, https://us-python.pkg.dev/colab-wheels/public/simple/\n",
            "Requirement already satisfied: pillow in /usr/local/lib/python3.8/dist-packages (7.1.2)\n"
          ]
        }
      ],
      "source": [
        "!pip install streamlit==1.15.2\n",
        "!pip install pyngrok\n",
        "!pip install solarpy\n",
        "!pip install pgeocode\n",
        "!pip install calfire-wildfires\n",
        "!pip install pillow"
      ]
    },
    {
      "cell_type": "code",
      "execution_count": 20,
      "metadata": {
        "colab": {
          "base_uri": "https://localhost:8080/"
        },
        "id": "p4QHIwdircJU",
        "outputId": "1ca983ff-4081-44c4-9a91-ee234f5b563d"
      },
      "outputs": [
        {
          "name": "stdout",
          "output_type": "stream",
          "text": [
            "Overwriting app.py\n"
          ]
        }
      ],
      "source": [
        "%%writefile app.py\n",
        "import streamlit as st\n",
        "\n",
        "st.title('Welcome to Weather Expert - a Nexus Forcasting System')\n",
        "st.subheader('Please enter the following information')\n",
        "zip = st.number_input('Enter your zipcode:',0,10000000000,1)\n",
        "num_of_panels = st.number_input('Enter how many solar panels you have:',0,10000000000,1)\n",
        "user_supplied_battery_size = st.number_input('Enter your battery size in kWh:',0,10000000000,1)\n",
        "battery_percent_input = st.slider('Enter your current battery percentage:',min_value=0,max_value=100)\n",
        "running = st.button('Run Program')\n",
        "\n",
        "import pandas as pd\n",
        "import plotly.express as px\n",
        "import numpy as np\n",
        "from datetime import datetime, timedelta\n",
        "import ipywidgets as widgets\n",
        "import requests, json\n",
        "from solarpy import irradiance_on_plane, solar_panel\n",
        "from datetime import datetime\n",
        "import pgeocode\n",
        "from datetime import datetime\n",
        "from shapely.geometry import Point\n",
        "import calfire_wildfires\n",
        "import numpy as np\n",
        "import pandas as pd\n",
        "\n",
        "path = \"https://github.com/jrt560/data/raw/main/supermarket.csv\"\n",
        "demand_data = pd.read_csv(path)\n",
        "\n",
        "demand_data.tail()\n",
        "months = []\n",
        "days = []\n",
        "time_of_day = []\n",
        "\n",
        "for i in range(0,np.shape(demand_data)[0]):\n",
        "  temp = demand_data['date/time'][i]\n",
        "  time_of_day.append(temp.split(' ')[-1])\n",
        "  temp_month = temp.split('/')[0].lstrip(' ')\n",
        "  months.append(int(temp_month))\n",
        "  temp_day = temp.split('/')[1][0:2]\n",
        "  days.append(int(temp_day))\n",
        "\n",
        "demand_data['month']=months\n",
        "demand_data['day']=days\n",
        "demand_data['time_of_day']=time_of_day\n",
        "demand_data = demand_data.drop(columns = ['Unnamed: 2'])\n",
        "demand_data = demand_data.drop(columns = ['Unnamed: 3'])\n",
        "\n",
        "demand_data.head()\n",
        "\n",
        "if running == 1:\n",
        "  # converting the zip code into lat/lon coordinates for the weather API.\n",
        "\n",
        "  nomi = pgeocode.Nominatim('us')\n",
        "  zip_info = nomi.query_postal_code(zip)\n",
        "  zip_lat = zip_info.latitude\n",
        "  zip_lon = zip_info.longitude\n",
        "  \n",
        "  # Finding the local weather data for the corresponding lat/lon coordinates.\n",
        "\n",
        "  # Enter your API key here\n",
        "\n",
        "  api_key = \"0991b1584a6c341b59012416f50ce210\"\n",
        "  base_url = \"http://api.openweathermap.org/data/2.5/forecast?\"\n",
        "\n",
        "  complete_url = base_url + \"&lat=\" + str(zip_lat) + \"&lon=\" + str(zip_lon)  + \"&appid=\" + api_key \n",
        "\n",
        "  # get method of requests module\n",
        "  # return response object\n",
        "  response = requests.get(complete_url)\n",
        " \n",
        "  # json method of response object\n",
        "  # convert json format data into\n",
        "  # python format data\n",
        "  forecast_data = response.json()\n",
        "\n",
        "  ### ASSUMPTIONS\n",
        "  #1: assume battery capacity if the average daily demand\n",
        "  #daily_sums = demand_data.groupby(['month','day'])['kwh'].sum()\n",
        "  #battery_capacity_kW =np.mean(daily_sums)/24\n",
        "  #battery_capacity_kW\n",
        "  \n",
        "  ### ASSUMPTIONS CONTINUED\n",
        "  ### FIGURE OUT BATTERY MINIMUM LEVELS\n",
        "\n",
        "  #2: assume battery level can dip to 50% UNLESS there is a fire detected \n",
        "  #3: now check for fire, if yes, maximize battery \n",
        "\n",
        "  active_fire_data = calfire_wildfires.get_active_fires()\n",
        "  df_fire_data = pd.DataFrame.from_dict(active_fire_data)\n",
        "\n",
        "  geometries = []\n",
        "  names = []\n",
        "\n",
        "  if df_fire_data.empty:\n",
        "    battery_min_level = 50\n",
        "  else:\n",
        "    for i in range(0,np.shape(df_fire_data)[0]):\n",
        "      if df_fire_data.features[i]['properties']['IsActive']=='True':\n",
        "        geometries.append(Point(df_fire_data.features[i]['properties']['Longitude'],df_fire_data.features[i]['properties']['Latitude']))\n",
        "        names.append(df_fire_data.features[i]['properties']['Name'])\n",
        "        battery_min_level = 100\n",
        "\n",
        "  #### GETTING DATA RANGES\n",
        "  start_forecast_date = datetime.strptime(forecast_data['list'][0]['dt_txt'], '%Y-%m-%d %H:%M:%S')\n",
        "  end_forecast_date = datetime.strptime(forecast_data['list'][-1]['dt_txt'], '%Y-%m-%d %H:%M:%S')\n",
        "  range_all_day_times = pd.date_range(start_forecast_date,end_forecast_date,freq='1H')\n",
        "  range_forecast_times = pd.date_range(start_forecast_date,end_forecast_date,freq='3H')\n",
        "\n",
        "  ### LOOP GENERATION\n",
        "  battery_level = np.round(float(user_supplied_battery_size)*(float(battery_percent_input)/100),2)\n",
        "\n",
        "  battery_levels_out = []\n",
        "  solar_power_generated = []\n",
        "  estimated_demand = []\n",
        "  rainfall_out = []\n",
        "  cloudiness_out = []\n",
        "\n",
        "  for i in range(0,np.shape(range_all_day_times)[0]):\n",
        "    input_date = str(range_all_day_times[i])\n",
        "    #this line determines which forecast to use, finds the closest date/time\n",
        "    index_forecast = range_forecast_times.searchsorted(range_all_day_times[i])\n",
        "    temp_forecast_data = forecast_data['list'][index_forecast]\n",
        "    cloudiness = temp_forecast_data[\"clouds\"][\"all\"]\n",
        "    try: \n",
        "      rainfall = temp_forecast_data['rain']['3h']\n",
        "    except:\n",
        "      rainfall = 0\n",
        "    else:\n",
        "      rainfall = temp_forecast_data['rain']['3h']\n",
        "    rainfall_out.append(rainfall)\n",
        "    year_forecast = int(input_date[0:4])\n",
        "    month_forecast = int(input_date[5:7])\n",
        "    day_forecast = int(input_date[8:10])\n",
        "    time_of_day_forecast = (input_date[11:])\n",
        "    if time_of_day_forecast == '00:00:00':\n",
        "      time_of_day_adjust = '24:00:00'\n",
        "    else:\n",
        "      time_of_day_adjust = time_of_day_forecast\n",
        "    demand_kwh = np.round(demand_data[(demand_data['month']==month_forecast)&(demand_data['day']==day_forecast)&(demand_data['time_of_day']==time_of_day_adjust)]['kwh'].values[0],2)\n",
        "    estimated_demand.append(demand_kwh)\n",
        "    #demand_estimated\n",
        "    panel = solar_panel(2.1, 0.2, id_name='example')  # surface, efficiency and name\n",
        "    panel.set_orientation(np.array([0, 0, -1]))  # upwards\n",
        "    panel.set_position(zip_lat, zip_lon, 0)  # NYC latitude, longitude, altitude\n",
        "    panel.set_datetime(datetime(year_forecast, month_forecast, day_forecast, int(time_of_day_forecast[0:2]), 0))  # Christmas Day!\n",
        "    one_panel_energy_W = panel.power()\n",
        "    all_panels_energy_kWh_no_clouds = np.round((one_panel_energy_W*float(num_of_panels))/1000,2)\n",
        "    if rainfall > 0:\n",
        "      cloudiness = 100  \n",
        "    cloudiness_out.append(cloudiness)\n",
        "    all_panels_energy_kWh_with_clouds = np.round((all_panels_energy_kWh_no_clouds * (100-cloudiness)/100),2)\n",
        "    solar_power_generated.append(all_panels_energy_kWh_with_clouds)\n",
        "    estimated_new_battery_level = np.round((battery_level - demand_kwh + all_panels_energy_kWh_with_clouds),2)\n",
        "    if estimated_new_battery_level < float(user_supplied_battery_size)*(battery_min_level/100): \n",
        "      battery_level = battery_level + all_panels_energy_kWh_with_clouds\n",
        "      battery_level = np.min([(battery_level),float(user_supplied_battery_size)])\n",
        "      battery_levels_out.append(battery_level)\n",
        "    else:\n",
        "      battery_level = np.min([(estimated_new_battery_level),float(user_supplied_battery_size)])\n",
        "      battery_levels_out.append(battery_level)\n",
        "  output_df = pd.DataFrame({'dates':range_all_day_times,'battery level': battery_levels_out,\n",
        "                          'solar power generated':solar_power_generated,'estimated demand':estimated_demand,\n",
        "                          'cloudiness percent': cloudiness_out,'rainfall amount':rainfall_out})\n",
        "  \n",
        "  from plotly.subplots import make_subplots\n",
        "  import plotly.graph_objects as go\n",
        "\n",
        "  fig = make_subplots(\n",
        "      rows=2, cols=1,\n",
        "      subplot_titles=(\"Cloudiness\", \"Power Generation, Battery Level, and Demand\"))\n",
        "\n",
        "  fig.add_trace(go.Scatter(x=output_df['dates'], y=output_df['cloudiness percent'], line_color='#abcae4', name='Cloudiness'),\n",
        "                row=1, col=1)\n",
        "\n",
        "  fig.add_trace(go.Scatter(x=output_df['dates'], y=output_df['battery level'], line_color='#619bcc', name='Battery Level'), \n",
        "                row=2, col=1)\n",
        "\n",
        "  fig.add_trace(go.Scatter(x=output_df['dates'], y=output_df['solar power generated'], line_color='#316a9a', name='Solar Power Generated'),\n",
        "                row=2, col=1)\n",
        "\n",
        "  fig.add_trace(go.Scatter(x=output_df['dates'], y=output_df['estimated demand'], line_color='#193750', name='Estimated Demand'),\n",
        "                row=2, col=1)\n",
        "\n",
        "\n",
        "  fig.update_layout(height=800, width=750,showlegend=True,\n",
        "                   )\n",
        "  fig['layout']['yaxis']['title']='%'\n",
        "  fig['layout']['yaxis2']['title']='kW'\n",
        "  fig.show()\n",
        "\n",
        "  st.plotly_chart(fig)\n",
        "\n",
        "\n",
        "\n",
        "\n",
        "\n",
        "\n",
        "\n",
        "\n",
        "\n",
        "\n",
        "\n",
        "\n",
        "\n"
      ]
    },
    {
      "cell_type": "code",
      "execution_count": null,
      "metadata": {
        "colab": {
          "base_uri": "https://localhost:8080/"
        },
        "id": "JbfOpgqTw-ZR",
        "outputId": "555cf30e-2a7d-4a93-9ac5-0fb6ec289fa3"
      },
      "outputs": [
        {
          "name": "stdout",
          "output_type": "stream",
          "text": [
            "\u001b[K\u001b[?25h\u001b[37;40mnpm\u001b[0m \u001b[0m\u001b[30;43mWARN\u001b[0m \u001b[0m\u001b[35msaveError\u001b[0m ENOENT: no such file or directory, open '/content/package.json'\n",
            "\u001b[K\u001b[?25h\u001b[37;40mnpm\u001b[0m \u001b[0m\u001b[30;43mWARN\u001b[0m \u001b[0m\u001b[35menoent\u001b[0m ENOENT: no such file or directory, open '/content/package.json'\n",
            "\u001b[0m\u001b[37;40mnpm\u001b[0m \u001b[0m\u001b[30;43mWARN\u001b[0m\u001b[35m\u001b[0m content No description\n",
            "\u001b[0m\u001b[37;40mnpm\u001b[0m \u001b[0m\u001b[30;43mWARN\u001b[0m\u001b[35m\u001b[0m content No repository field.\n",
            "\u001b[0m\u001b[37;40mnpm\u001b[0m \u001b[0m\u001b[30;43mWARN\u001b[0m\u001b[35m\u001b[0m content No README data\n",
            "\u001b[0m\u001b[37;40mnpm\u001b[0m \u001b[0m\u001b[30;43mWARN\u001b[0m\u001b[35m\u001b[0m content No license field.\n",
            "\u001b[0m\n",
            "+ localtunnel@2.0.2\n",
            "updated 1 package and audited 36 packages in 2.007s\n",
            "\n",
            "3 packages are looking for funding\n",
            "  run `npm fund` for details\n",
            "\n",
            "found \u001b[92m0\u001b[0m vulnerabilities\n",
            "\n",
            "\u001b[K\u001b[?25h"
          ]
        }
      ],
      "source": [
        "!npm install localtunnel"
      ]
    },
    {
      "cell_type": "code",
      "execution_count": null,
      "metadata": {
        "colab": {
          "base_uri": "https://localhost:8080/"
        },
        "id": "RZWhgIf1rmRC",
        "outputId": "105d3539-9d71-4269-e3ad-a6e1a1a28a93"
      },
      "outputs": [
        {
          "name": "stdout",
          "output_type": "stream",
          "text": [
            "Authtoken saved to configuration file: /root/.ngrok2/ngrok.yml\n"
          ]
        }
      ],
      "source": [
        "#!ngrok authtoken YOUR_AUTH_TOKEN"
      ]
    },
    {
      "cell_type": "code",
      "execution_count": null,
      "metadata": {
        "colab": {
          "base_uri": "https://localhost:8080/"
        },
        "id": "4njM6VJixpZ0",
        "outputId": "57abe3ac-f4bb-471c-d9ab-f02d553b2919"
      },
      "outputs": [
        {
          "name": "stdout",
          "output_type": "stream",
          "text": [
            "Traceback (most recent call last):\n",
            "  File \"/usr/local/bin/streamlit\", line 5, in <module>\n",
            "    from streamlit.web.cli import main\n",
            "  File \"/usr/local/lib/python3.8/dist-packages/streamlit/__init__.py\", line 55, in <module>\n",
            "    from streamlit.delta_generator import DeltaGenerator as _DeltaGenerator\n",
            "  File \"/usr/local/lib/python3.8/dist-packages/streamlit/delta_generator.py\", line 38, in <module>\n",
            "    from streamlit import config, cursor, env_util, logger, runtime, type_util, util\n",
            "  File \"/usr/local/lib/python3.8/dist-packages/streamlit/cursor.py\", line 18, in <module>\n",
            "    from streamlit.runtime.scriptrunner import get_script_run_ctx\n",
            "  File \"/usr/local/lib/python3.8/dist-packages/streamlit/runtime/__init__.py\", line 16, in <module>\n",
            "    from streamlit.runtime.runtime import Runtime as Runtime\n",
            "  File \"/usr/local/lib/python3.8/dist-packages/streamlit/runtime/runtime.py\", line 26, in <module>\n",
            "    from streamlit.proto.BackMsg_pb2 import BackMsg\n",
            "  File \"/usr/local/lib/python3.8/dist-packages/streamlit/proto/BackMsg_pb2.py\", line 5, in <module>\n",
            "    from google.protobuf.internal import builder as _builder\n",
            "ImportError: cannot import name 'builder' from 'google.protobuf.internal' (/usr/local/lib/python3.8/dist-packages/google/protobuf/internal/__init__.py)\n"
          ]
        }
      ],
      "source": [
        "!streamlit run /content/app.py #&>/content/logs.txt &"
      ]
    },
    {
      "cell_type": "code",
      "execution_count": null,
      "metadata": {
        "colab": {
          "base_uri": "https://localhost:8080/"
        },
        "id": "KOW6J7dExuQP",
        "outputId": "b3c34cfe-3ceb-46fc-8cc1-7c9ab5c7fb23"
      },
      "outputs": [
        {
          "name": "stdout",
          "output_type": "stream",
          "text": [
            "\u001b[K\u001b[?25hnpx: installed 22 in 7.423s\n",
            "your url is: https://easy-items-shop-35-229-130-4.loca.lt\n",
            "^C\n"
          ]
        }
      ],
      "source": [
        "!npx localtunnel --port 8501"
      ]
    }
  ],
  "metadata": {
    "colab": {
      "provenance": []
    },
    "kernelspec": {
      "display_name": "Python 3.9.15 ('forecast-env')",
      "language": "python",
      "name": "python3"
    },
    "language_info": {
      "codemirror_mode": {
        "name": "ipython",
        "version": 3
      },
      "file_extension": ".py",
      "mimetype": "text/x-python",
      "name": "python",
      "nbconvert_exporter": "python",
      "pygments_lexer": "ipython3",
      "version": "3.9.15"
    },
    "vscode": {
      "interpreter": {
        "hash": "3697b431cd58185459462dca0c89353264a6422cac426e8765e28a7954aa158a"
      }
    }
  },
  "nbformat": 4,
  "nbformat_minor": 0
}
